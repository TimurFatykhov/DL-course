{
 "cells": [
  {
   "cell_type": "markdown",
   "metadata": {},
   "source": [
    "# Numpy - домашняя работа"
   ]
  },
  {
   "cell_type": "markdown",
   "metadata": {},
   "source": [
    "### Задание №0:\n",
    "\n",
    "Импортируйте библиотеки ```numpy``` и ```matplotlib.pyplot```"
   ]
  },
  {
   "cell_type": "code",
   "execution_count": null,
   "metadata": {},
   "outputs": [],
   "source": [
    "# ваш код здесь"
   ]
  },
  {
   "cell_type": "markdown",
   "metadata": {},
   "source": [
    "### Задание №1:\n",
    "\n",
    "Создайте матрицу размером ```(5,5)``` и заполните ее пятерками. Подумайте над тем как сделать эту операцию максимально быстро (можно уложиться в 16 символов)"
   ]
  },
  {
   "cell_type": "code",
   "execution_count": null,
   "metadata": {},
   "outputs": [],
   "source": [
    "# ваш код здесь"
   ]
  },
  {
   "cell_type": "markdown",
   "metadata": {},
   "source": [
    "Теперь умножьте все значения на 2 (не больше 2 символов кода без учета названия переменных)"
   ]
  },
  {
   "cell_type": "code",
   "execution_count": null,
   "metadata": {},
   "outputs": [],
   "source": [
    "# ваш код здесь"
   ]
  },
  {
   "cell_type": "markdown",
   "metadata": {},
   "source": [
    "### Задание №2:\n",
    "\n",
    "Установите семя случайного генератора равному 77 (чтобы у всех генерировалась одинаковая матрица и помните, что семя надо устанавливать заново после каждого вызова функций, которые генерируют случайные последовательности). Создайте матрицу размером 25x25, заполненную случайными числами из нормального распределения `N(0, 3)` и посчитайте ее среднее значение (используйте встроенную в numpy функцию). Должно получиться около нуля, ведь мы задали центр равный нулю (а среднекв. отклонение должно быть около 3)."
   ]
  },
  {
   "cell_type": "code",
   "execution_count": null,
   "metadata": {},
   "outputs": [],
   "source": [
    "# ваш код здесь"
   ]
  },
  {
   "cell_type": "markdown",
   "metadata": {},
   "source": [
    "А теперь посчитайте среднеквадритечское отклонение элементов матрицы. Формула для вычисления очень проста: ```sqrt(M((M(x) - x)^2))```, где М - это функция, вычисляющая среднее значение вектора, ```^2``` означает возвести во вторую степень, а `sqrt` - вычислить корень. Результат должен получится такой же, как если бы вы вызвали функцию ```np.std( )```, передав свою матрицу как аргумент функции. Поэтому можете самостоятельно проверить правильность своих вычислений"
   ]
  },
  {
   "cell_type": "code",
   "execution_count": null,
   "metadata": {},
   "outputs": [],
   "source": [
    "# ваш код здесь"
   ]
  },
  {
   "cell_type": "markdown",
   "metadata": {},
   "source": [
    "Воспользуйтесь функцией `np.std()`, чтобы проверить правильность своих вычислений, должно получиться 3.00930891..."
   ]
  },
  {
   "cell_type": "markdown",
   "metadata": {},
   "source": [
    "### Задание №3:\n",
    "\n",
    "Теперь сконвертируйте следующий python-список в numpy-вектор, а после переформируйте его в матрицу размером 4х4. На диагонали у вас должны появиться единицы. Теперь с помощью индексирования задайте элементам на [главной диагонали](https://ru.wikipedia.org/wiki/Главная_диагональ) значение 7. Затем четные столбцы в четных (по индексу) строках равными 5 и вычислите произведение элементов каждой строки, а затем сумму этих произведений, должно получиться значение 77."
   ]
  },
  {
   "cell_type": "code",
   "execution_count": null,
   "metadata": {},
   "outputs": [],
   "source": [
    "task_3 = [1, -2, 3, -3, -2, 1, 1, -1, 2, -2, 1, 3, 1, 3, 3, 1]"
   ]
  },
  {
   "cell_type": "code",
   "execution_count": null,
   "metadata": {},
   "outputs": [],
   "source": [
    "# ваш код здесь"
   ]
  },
  {
   "cell_type": "markdown",
   "metadata": {},
   "source": [
    "### Задание №4:\n",
    "\n",
    "Осуществите перемножение трех следующих матриц установив их в таком порядке, чтобы не произошло ошибки"
   ]
  },
  {
   "cell_type": "code",
   "execution_count": null,
   "metadata": {},
   "outputs": [],
   "source": [
    "task_41 = [[8,7,-2],[0,-3,6],[-5,3,1],[6,-7,4]] # подсказка: эта матрица должна идти первой\n",
    "\n",
    "task_42 = [[5,6,-2], [8,3,-1], [-5,0,-1], [1,4,1], [0,5,0]]\n",
    "task_43 = [[0,6], [1,-8], [5,3]]\n",
    "task_44 = [[2,-6,4,2,7], [8,5,-1,7,1]]"
   ]
  },
  {
   "cell_type": "markdown",
   "metadata": {},
   "source": [
    "Теперь вычислите сумму четырех угловых правых нижних элементов"
   ]
  },
  {
   "cell_type": "code",
   "execution_count": null,
   "metadata": {},
   "outputs": [],
   "source": [
    "# ваш код здесь"
   ]
  },
  {
   "cell_type": "markdown",
   "metadata": {},
   "source": [
    "Должно получиться 5176"
   ]
  },
  {
   "cell_type": "code",
   "execution_count": null,
   "metadata": {},
   "outputs": [],
   "source": [
    "# ваш код здесь"
   ]
  }
 ],
 "metadata": {
  "kernelspec": {
   "display_name": "Python 3",
   "language": "python",
   "name": "python3"
  },
  "language_info": {
   "codemirror_mode": {
    "name": "ipython",
    "version": 3
   },
   "file_extension": ".py",
   "mimetype": "text/x-python",
   "name": "python",
   "nbconvert_exporter": "python",
   "pygments_lexer": "ipython3",
   "version": "3.7.4"
  },
  "latex_envs": {
   "LaTeX_envs_menu_present": true,
   "autoclose": false,
   "autocomplete": true,
   "bibliofile": "biblio.bib",
   "cite_by": "apalike",
   "current_citInitial": 1,
   "eqLabelWithNumbers": true,
   "eqNumInitial": 1,
   "hotkeys": {
    "equation": "Ctrl-E",
    "itemize": "Ctrl-I"
   },
   "labels_anchors": false,
   "latex_user_defs": false,
   "report_style_numbering": false,
   "user_envs_cfg": false
  }
 },
 "nbformat": 4,
 "nbformat_minor": 2
}
