{
 "cells": [
  {
   "cell_type": "markdown",
   "metadata": {},
   "source": [
    "# <center>🐍Python. Основы👼🏼</center>\n",
    "\n",
    "**Привет, коллега!** \n",
    "\n",
    "А вы знали, что коллегами называют не только приятелей по работе, но и людей, которые учатся вместе с вами?🤓 Любой программист, и особенно дата аналитик, познают новое всю свою профессиональную жизнь. IT мир меняется очень быстро! За один год может выйти несколько новых версий языка программирования, сотни библиотек, тысячи научных статей и публикаций, именно поэтому даже самые опытные практики остаются учениками всю свою жизнь. Поэтому, коль вы приступили к изучению Python и машинного обучения, рад вас приветствовать в наших рядах, коллега!🥳\n",
    "\n",
    "Это первая лекция в нашем курсе по изучению глубокого машинного обучения! Начнем со знакомства с языком Python. Данная тетрадка является больше блокнотом с заметками, нежели чем учебным пособием по Python, поэтому если вы еще не видели видео-лекции по данному уроку, то рекомендуем посмотреть!"
   ]
  },
  {
   "cell_type": "markdown",
   "metadata": {},
   "source": [
    "## Содержание тетрадки: <a id='b'></a>\n",
    "<br>\n",
    "\n",
    "1. [Простая переменная](#h1)\n",
    "> 1.1 [Численные типы переменной](#h11)<br>\n",
    "> 1.2 [Строки](#h12)<br>\n",
    "> 1.3 [Операции](#h13)<br>\n",
    "\n",
    "2. [Контейнеры](#h2)\n",
    "> 2.1 [Список (list)](#h21)<br>\n",
    "> 2.2 [Кортеж (tuple)](#h22)<br>\n",
    "> 2.3 [Словарь (dict)](#h23)<br>\n",
    "> 2.4 [Набор (set)](#h24)<br>\n",
    "\n",
    "3. [Циклы](#h3)\n",
    "> 3.1 [for](#h21)<br>\n",
    "> 3.2 [while](#h21)<br>\n",
    "\n",
    "4. [Функции](#h3)"
   ]
  },
  {
   "cell_type": "markdown",
   "metadata": {},
   "source": [
    "## 1. Простая переменная <a id='h1'></a>"
   ]
  },
  {
   "cell_type": "markdown",
   "metadata": {},
   "source": [
    "### 1.1 Численные типы переменной<a id='h11'></a>\n",
    "\n",
    "[содержание](#b)"
   ]
  },
  {
   "cell_type": "code",
   "execution_count": null,
   "metadata": {},
   "outputs": [],
   "source": []
  },
  {
   "cell_type": "code",
   "execution_count": null,
   "metadata": {},
   "outputs": [],
   "source": []
  },
  {
   "cell_type": "markdown",
   "metadata": {},
   "source": [
    "### Списки"
   ]
  },
  {
   "cell_type": "code",
   "execution_count": null,
   "metadata": {
    "collapsed": true
   },
   "outputs": [],
   "source": [
    "arr = list() \n",
    "arr = [] \n",
    "\n",
    "arr = [1, 2, 3]\n",
    "arr = [ [1, 2, 3],\n",
    "        [3, 4, 5],\n",
    "        [6, 7, 8] ]\n",
    "\n",
    "arr = ['mmm', 3, ['uuu', 'fff', 'aaa'], [], 99.99] \n",
    "\n",
    "print(arr[0])\n",
    "print(arr[2])\n",
    "print(arr[3])"
   ]
  },
  {
   "cell_type": "markdown",
   "metadata": {},
   "source": [
    "### Кортеж (tuples, immutable arrays)"
   ]
  },
  {
   "cell_type": "code",
   "execution_count": null,
   "metadata": {
    "collapsed": true
   },
   "outputs": [],
   "source": [
    "t = ()\n",
    "t = (1, 2, 'ccc')\n",
    "\n",
    "print(t)\n",
    "print() \n",
    "print(t[2])"
   ]
  },
  {
   "cell_type": "markdown",
   "metadata": {},
   "source": [
    "### Словари"
   ]
  },
  {
   "cell_type": "code",
   "execution_count": null,
   "metadata": {
    "collapsed": true
   },
   "outputs": [],
   "source": [
    "d = dict() \n",
    "d = {}\n",
    "\n",
    "engrus = {\n",
    "    'apple'  : 'яблоко',\n",
    "    'love'   : 'любить',\n",
    "    'yours'  : 'ваши',\n",
    "    'fence'  : 'забор'\n",
    "}\n",
    "print(engrus)\n",
    "print() \n",
    "print(engrus['apple'])\n",
    "print() \n",
    "\n",
    "foo = {\n",
    "    11 : 'mae',\n",
    "    22 : 'log',\n",
    "    33 : 'sof'\n",
    "}\n",
    "print(foo[11]) # обращение к элементу напоминает обращение к массиву, но внутри [ ] не индекс, а ключ!"
   ]
  },
  {
   "cell_type": "markdown",
   "metadata": {},
   "source": [
    "### Набор (set)"
   ]
  },
  {
   "cell_type": "code",
   "execution_count": null,
   "metadata": {
    "collapsed": true
   },
   "outputs": [],
   "source": [
    "s = {}\n",
    "\n",
    "# ждем ошибки\n",
    "s = {'hhh', 3, 4, {'H' : 2, 'Y' : 3}}"
   ]
  },
  {
   "cell_type": "code",
   "execution_count": null,
   "metadata": {
    "collapsed": true
   },
   "outputs": [],
   "source": [
    "# посмотрим, совпадет ли порядок элементов при инициализации с выводом, если нет, то почему?\n",
    "s = {'kkk', 345, 'ddd', 17, 17888}\n",
    "print(s)"
   ]
  },
  {
   "cell_type": "code",
   "execution_count": null,
   "metadata": {
    "collapsed": true
   },
   "outputs": [],
   "source": [
    "# такого ключа нет, но почему нет ошибки?\n",
    "print(s[0])"
   ]
  },
  {
   "cell_type": "markdown",
   "metadata": {},
   "source": [
    "### List, Dict, Set, Tuples - Comprehensions"
   ]
  },
  {
   "cell_type": "code",
   "execution_count": null,
   "metadata": {
    "collapsed": true
   },
   "outputs": [],
   "source": [
    "arr "
   ]
  },
  {
   "cell_type": "code",
   "execution_count": null,
   "metadata": {
    "collapsed": true
   },
   "outputs": [],
   "source": [
    "for i in arr:\n",
    "    print(i) "
   ]
  },
  {
   "cell_type": "markdown",
   "metadata": {},
   "source": [
    "<br><br>"
   ]
  },
  {
   "cell_type": "code",
   "execution_count": null,
   "metadata": {
    "collapsed": true
   },
   "outputs": [],
   "source": [
    "engrus"
   ]
  },
  {
   "cell_type": "code",
   "execution_count": null,
   "metadata": {
    "collapsed": true
   },
   "outputs": [],
   "source": [
    "for key, value in engrus.items():\n",
    "    print(f'{key}\\t->\\t{value}')"
   ]
  },
  {
   "cell_type": "markdown",
   "metadata": {},
   "source": [
    "<br><br>"
   ]
  },
  {
   "cell_type": "code",
   "execution_count": null,
   "metadata": {
    "collapsed": true
   },
   "outputs": [],
   "source": [
    "s "
   ]
  },
  {
   "cell_type": "code",
   "execution_count": null,
   "metadata": {
    "collapsed": true
   },
   "outputs": [],
   "source": [
    "for i in s:\n",
    "    print(i) "
   ]
  },
  {
   "cell_type": "markdown",
   "metadata": {},
   "source": [
    "<br><br>"
   ]
  },
  {
   "cell_type": "code",
   "execution_count": null,
   "metadata": {
    "collapsed": true
   },
   "outputs": [],
   "source": [
    "t "
   ]
  },
  {
   "cell_type": "code",
   "execution_count": null,
   "metadata": {
    "collapsed": true
   },
   "outputs": [],
   "source": [
    "for i in t:\n",
    "    print(i) "
   ]
  },
  {
   "cell_type": "markdown",
   "metadata": {},
   "source": [
    "<br><br>"
   ]
  },
  {
   "cell_type": "markdown",
   "metadata": {},
   "source": [
    "### Enumerate"
   ]
  },
  {
   "cell_type": "code",
   "execution_count": null,
   "metadata": {
    "collapsed": true
   },
   "outputs": [],
   "source": [
    "for i, element in enumerate(t):\n",
    "    print(f'#{i} -> {element}') "
   ]
  },
  {
   "cell_type": "code",
   "execution_count": null,
   "metadata": {
    "collapsed": true
   },
   "outputs": [],
   "source": [
    "for un in enumerate(t):\n",
    "    print(un) "
   ]
  }
 ],
 "metadata": {
  "kernelspec": {
   "display_name": "Python 3",
   "language": "python",
   "name": "python3"
  },
  "language_info": {
   "codemirror_mode": {
    "name": "ipython",
    "version": 3
   },
   "file_extension": ".py",
   "mimetype": "text/x-python",
   "name": "python",
   "nbconvert_exporter": "python",
   "pygments_lexer": "ipython3",
   "version": "3.7.4"
  },
  "latex_envs": {
   "LaTeX_envs_menu_present": true,
   "autoclose": false,
   "autocomplete": true,
   "bibliofile": "biblio.bib",
   "cite_by": "apalike",
   "current_citInitial": 1,
   "eqLabelWithNumbers": true,
   "eqNumInitial": 1,
   "hotkeys": {
    "equation": "Ctrl-E",
    "itemize": "Ctrl-I"
   },
   "labels_anchors": false,
   "latex_user_defs": false,
   "report_style_numbering": false,
   "user_envs_cfg": false
  }
 },
 "nbformat": 4,
 "nbformat_minor": 2
}
