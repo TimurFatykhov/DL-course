{
 "cells": [
  {
   "cell_type": "markdown",
   "metadata": {},
   "source": [
    "# <center>Machine learning course \n",
    "<font size = 1>Материал подготовил Data-science исследователь Novel Software Systems, студент Новосибирского Государственного Технического Университета Фатыхов Тимур"
   ]
  },
  {
   "cell_type": "markdown",
   "metadata": {},
   "source": [
    "---"
   ]
  },
  {
   "cell_type": "markdown",
   "metadata": {},
   "source": [
    "### GitHub репозиторий с материалами курса"
   ]
  },
  {
   "cell_type": "markdown",
   "metadata": {},
   "source": [
    "<img src='./img/git_rep.png' width = 75%>"
   ]
  },
  {
   "cell_type": "markdown",
   "metadata": {},
   "source": [
    "# <center>Терминал"
   ]
  },
  {
   "cell_type": "markdown",
   "metadata": {},
   "source": [
    "<img src='./img/c1.png'>\n",
    "<img src='./img/c2.png'>\n",
    "<img src='./img/c3.png'>"
   ]
  },
  {
   "cell_type": "markdown",
   "metadata": {},
   "source": [
    "___\n",
    "# <center>Python - <font color='red'>интерпретируемый</font> объектно-ориентированный язык программирования"
   ]
  },
  {
   "cell_type": "markdown",
   "metadata": {
    "collapsed": true
   },
   "source": [
    "<br><br>\n",
    "# 1. Python - интерпретируемый язык"
   ]
  },
  {
   "cell_type": "markdown",
   "metadata": {},
   "source": [
    "Подробнее о процессе интерпретации `python` можно прочесть в [данной статье](https://habr.com/post/264609/) (август 2015 год)\n",
    "<br>\n",
    "<br>\n",
    "Ниже скриншоты из википедии"
   ]
  },
  {
   "cell_type": "markdown",
   "metadata": {},
   "source": [
    "<img src='img/interpr1.png' width=70%>\n",
    "<img src='img/interpr2.png' width=69%>"
   ]
  },
  {
   "cell_type": "markdown",
   "metadata": {},
   "source": [
    "<br><br>\n",
    "# 2. Modules, Packages"
   ]
  },
  {
   "cell_type": "markdown",
   "metadata": {},
   "source": [
    "Пример программы на python<img src='img/python_code.png'>"
   ]
  },
  {
   "cell_type": "markdown",
   "metadata": {},
   "source": [
    "## <center> Рассмотрим пример импортирования <font color='red'>модулей</font>"
   ]
  },
  {
   "cell_type": "markdown",
   "metadata": {},
   "source": [
    "<img src='./img/folder.png' width=60%>\n",
    "<img src='./img/import2.png'>\n",
    "<img src='./img/import1.png'>\n",
    "<img src='./img/import3.png'>"
   ]
  },
  {
   "cell_type": "markdown",
   "metadata": {},
   "source": [
    "## <center> А теперь создадим <font color='red'>пакет</font> middle и в нем вложенный <font color='red'>пакет</font> question"
   ]
  },
  {
   "cell_type": "markdown",
   "metadata": {},
   "source": [
    "<img src='./img/import5.png' width=60%>\n",
    "<img src='./img/import6.png' width=60%>\n",
    "<img src='./img/import4.png'>"
   ]
  },
  {
   "cell_type": "markdown",
   "metadata": {},
   "source": [
    "Зачем пакеты, когда можно было бы все сложить в один файл? Представим более сложную иерархию питоновских файлов, например мы хотим создать средства для обработки медиа файлов. Но ведь для каждого типа должны быть свои методы. Если все их поместить в один файл, то это будет хаос. Гораздо лучше реализовать следующую иерархию:\n",
    "<br>\n",
    "<img src='./img/hierarchy.png'>"
   ]
  },
  {
   "cell_type": "markdown",
   "metadata": {},
   "source": [
    "[Пример](https://docs.python.org/3/tutorial/modules.html) взят из официальной документации к языку."
   ]
  },
  {
   "cell_type": "markdown",
   "metadata": {},
   "source": [
    "Где скрываются пакеты Anacond-ы и встроенные модули можно посмотреть в sys.path который выведет список урлов, в порядке приоритета, в которых python будет искать импортируемые пакеты/модули"
   ]
  },
  {
   "cell_type": "code",
   "execution_count": null,
   "metadata": {
    "collapsed": true
   },
   "outputs": [],
   "source": [
    "import sys \n",
    " \n",
    "sys.path "
   ]
  },
  {
   "cell_type": "markdown",
   "metadata": {},
   "source": [
    "<br><br>\n",
    "# 3. Примитивы"
   ]
  },
  {
   "cell_type": "markdown",
   "metadata": {},
   "source": [
    "## Контейнеры\n",
    "---"
   ]
  },
  {
   "cell_type": "markdown",
   "metadata": {},
   "source": [
    "### Списки"
   ]
  },
  {
   "cell_type": "code",
   "execution_count": null,
   "metadata": {
    "collapsed": true
   },
   "outputs": [],
   "source": [
    "arr = list() \n",
    "arr = [] \n",
    "\n",
    "arr = [1, 2, 3]\n",
    "arr = [ [1, 2, 3],\n",
    "        [3, 4, 5],\n",
    "        [6, 7, 8] ]\n",
    "\n",
    "arr = ['mmm', 3, ['uuu', 'fff', 'aaa'], [], 99.99] \n",
    "\n",
    "print(arr[0])\n",
    "print(arr[2])\n",
    "print(arr[3])"
   ]
  },
  {
   "cell_type": "markdown",
   "metadata": {},
   "source": [
    "### Кортеж (tuples, immutable arrays)"
   ]
  },
  {
   "cell_type": "code",
   "execution_count": null,
   "metadata": {
    "collapsed": true
   },
   "outputs": [],
   "source": [
    "t = ()\n",
    "t = (1, 2, 'ccc')\n",
    "\n",
    "print(t)\n",
    "print() \n",
    "print(t[2])"
   ]
  },
  {
   "cell_type": "markdown",
   "metadata": {},
   "source": [
    "### Словари"
   ]
  },
  {
   "cell_type": "code",
   "execution_count": null,
   "metadata": {
    "collapsed": true
   },
   "outputs": [],
   "source": [
    "d = dict() \n",
    "d = {}\n",
    "\n",
    "engrus = {\n",
    "    'apple'  : 'яблоко',\n",
    "    'love'   : 'любить',\n",
    "    'yours'  : 'ваши',\n",
    "    'fence'  : 'забор'\n",
    "}\n",
    "print(engrus)\n",
    "print() \n",
    "print(engrus['apple'])\n",
    "print() \n",
    "\n",
    "foo = {\n",
    "    11 : 'mae',\n",
    "    22 : 'log',\n",
    "    33 : 'sof'\n",
    "}\n",
    "print(foo[11]) # обращение к элементу напоминает обращение к массиву, но внутри [ ] не индекс, а ключ!"
   ]
  },
  {
   "cell_type": "markdown",
   "metadata": {},
   "source": [
    "### Набор (set)"
   ]
  },
  {
   "cell_type": "code",
   "execution_count": null,
   "metadata": {
    "collapsed": true
   },
   "outputs": [],
   "source": [
    "s = {}\n",
    "\n",
    "# ждем ошибки\n",
    "s = {'hhh', 3, 4, {'H' : 2, 'Y' : 3}}"
   ]
  },
  {
   "cell_type": "code",
   "execution_count": null,
   "metadata": {
    "collapsed": true
   },
   "outputs": [],
   "source": [
    "# посмотрим, совпадет ли порядок элементов при инициализации с выводом, если нет, то почему?\n",
    "s = {'kkk', 345, 'ddd', 17, 17888}\n",
    "print(s)"
   ]
  },
  {
   "cell_type": "code",
   "execution_count": null,
   "metadata": {
    "collapsed": true
   },
   "outputs": [],
   "source": [
    "# такого ключа нет, но почему нет ошибки?\n",
    "print(s[0])"
   ]
  },
  {
   "cell_type": "markdown",
   "metadata": {},
   "source": [
    "### List, Dict, Set, Tuples - Comprehensions"
   ]
  },
  {
   "cell_type": "code",
   "execution_count": null,
   "metadata": {
    "collapsed": true
   },
   "outputs": [],
   "source": [
    "arr "
   ]
  },
  {
   "cell_type": "code",
   "execution_count": null,
   "metadata": {
    "collapsed": true
   },
   "outputs": [],
   "source": [
    "for i in arr:\n",
    "    print(i) "
   ]
  },
  {
   "cell_type": "markdown",
   "metadata": {},
   "source": [
    "<br><br>"
   ]
  },
  {
   "cell_type": "code",
   "execution_count": null,
   "metadata": {
    "collapsed": true
   },
   "outputs": [],
   "source": [
    "engrus"
   ]
  },
  {
   "cell_type": "code",
   "execution_count": null,
   "metadata": {
    "collapsed": true
   },
   "outputs": [],
   "source": [
    "for key, value in engrus.items():\n",
    "    print(f'{key}\\t->\\t{value}')"
   ]
  },
  {
   "cell_type": "markdown",
   "metadata": {},
   "source": [
    "<br><br>"
   ]
  },
  {
   "cell_type": "code",
   "execution_count": null,
   "metadata": {
    "collapsed": true
   },
   "outputs": [],
   "source": [
    "s "
   ]
  },
  {
   "cell_type": "code",
   "execution_count": null,
   "metadata": {
    "collapsed": true
   },
   "outputs": [],
   "source": [
    "for i in s:\n",
    "    print(i) "
   ]
  },
  {
   "cell_type": "markdown",
   "metadata": {},
   "source": [
    "<br><br>"
   ]
  },
  {
   "cell_type": "code",
   "execution_count": null,
   "metadata": {
    "collapsed": true
   },
   "outputs": [],
   "source": [
    "t "
   ]
  },
  {
   "cell_type": "code",
   "execution_count": null,
   "metadata": {
    "collapsed": true
   },
   "outputs": [],
   "source": [
    "for i in t:\n",
    "    print(i) "
   ]
  },
  {
   "cell_type": "markdown",
   "metadata": {},
   "source": [
    "<br><br>"
   ]
  },
  {
   "cell_type": "markdown",
   "metadata": {},
   "source": [
    "### Доп фича: enumerate"
   ]
  },
  {
   "cell_type": "code",
   "execution_count": null,
   "metadata": {
    "collapsed": true
   },
   "outputs": [],
   "source": [
    "for i, element in enumerate(t):\n",
    "    print(f'#{i} -> {element}') "
   ]
  },
  {
   "cell_type": "code",
   "execution_count": null,
   "metadata": {
    "collapsed": true
   },
   "outputs": [],
   "source": [
    "for un in enumerate(t):\n",
    "    print(un) "
   ]
  },
  {
   "cell_type": "markdown",
   "metadata": {},
   "source": [
    "<br><br> \n",
    "<img src='./img/enum_tran.png'>"
   ]
  },
  {
   "cell_type": "markdown",
   "metadata": {},
   "source": [
    "<br><br>\n",
    "## Операторы ветвления\n",
    "---"
   ]
  },
  {
   "cell_type": "markdown",
   "metadata": {},
   "source": [
    "### if"
   ]
  },
  {
   "cell_type": "code",
   "execution_count": null,
   "metadata": {
    "collapsed": true
   },
   "outputs": [],
   "source": [
    "import numpy as np \n",
    "random_number = np.random.randint(0, 1000, 1)\n",
    "\n",
    "if random_number % 2:\n",
    "    print('четное число')\n",
    "else:\n",
    "    print('НЕчентное число')"
   ]
  },
  {
   "cell_type": "code",
   "execution_count": null,
   "metadata": {
    "collapsed": true
   },
   "outputs": [],
   "source": [
    "exprsn = True * 1 - 2 + 3 * True\n",
    "\n",
    "if exprsn:\n",
    "    print('Hello world')\n",
    "    \n",
    "if 0:\n",
    "    print('Good bye :)')\n",
    "    \n",
    "if 1:\n",
    "    print('Foo')"
   ]
  },
  {
   "cell_type": "markdown",
   "metadata": {},
   "source": [
    "### while"
   ]
  },
  {
   "cell_type": "code",
   "execution_count": null,
   "metadata": {
    "collapsed": true
   },
   "outputs": [],
   "source": [
    "c = 10\n",
    "\n",
    "while c > 1:\n",
    "    print(c)\n",
    "    c -= 1"
   ]
  },
  {
   "cell_type": "markdown",
   "metadata": {},
   "source": [
    "### for"
   ]
  },
  {
   "cell_type": "code",
   "execution_count": null,
   "metadata": {
    "collapsed": true
   },
   "outputs": [],
   "source": [
    "for i in [0, 1, 2, 3]:\n",
    "    print(i)"
   ]
  },
  {
   "cell_type": "code",
   "execution_count": null,
   "metadata": {
    "collapsed": true
   },
   "outputs": [],
   "source": [
    "for i in range(4):\n",
    "    print(i) "
   ]
  },
  {
   "cell_type": "code",
   "execution_count": null,
   "metadata": {
    "collapsed": true
   },
   "outputs": [],
   "source": [
    "range(4) "
   ]
  },
  {
   "cell_type": "code",
   "execution_count": null,
   "metadata": {
    "collapsed": true
   },
   "outputs": [],
   "source": [
    "list(range(4))"
   ]
  },
  {
   "cell_type": "code",
   "execution_count": null,
   "metadata": {
    "collapsed": true
   },
   "outputs": [],
   "source": [
    "set(range(4))"
   ]
  },
  {
   "cell_type": "markdown",
   "metadata": {},
   "source": [
    "## Функции (и процедуры)\n",
    "---"
   ]
  },
  {
   "cell_type": "code",
   "execution_count": null,
   "metadata": {
    "collapsed": true
   },
   "outputs": [],
   "source": [
    "import numpy as np \n",
    "\n",
    "def euclidean_distance(a, b):\n",
    "    \"\"\"\n",
    "    Calculate euclidean distance between two vectors: a and b\n",
    "    \n",
    "    Inputs: \n",
    "    - a: Array with shape (N,)\n",
    "    - b: Array with shape (N,)\n",
    "    \n",
    "    Outputs:\n",
    "    - dist: Float distance\n",
    "    \"\"\"\n",
    "    \n",
    "    if len(a) is not len(b):\n",
    "        raise ValueError('Shape of vector a is not equal to shape of b')\n",
    "    \n",
    "    dist = 0.0\n",
    "    for i in range(len(a)):\n",
    "        dist += (a[i] - b[i])**2\n",
    "        \n",
    "    return np.sqrt(dist)"
   ]
  },
  {
   "cell_type": "code",
   "execution_count": null,
   "metadata": {
    "collapsed": true
   },
   "outputs": [],
   "source": [
    "print(euclidean_distance([0,0], [0,7])) # 7\n",
    "print(euclidean_distance([1,2], [3,4])) # sqrt(8) ~ 2.82"
   ]
  }
 ],
 "metadata": {
  "kernelspec": {
   "display_name": "Python 3",
   "language": "python",
   "name": "python3"
  },
  "language_info": {
   "codemirror_mode": {
    "name": "ipython",
    "version": 3
   },
   "file_extension": ".py",
   "mimetype": "text/x-python",
   "name": "python",
   "nbconvert_exporter": "python",
   "pygments_lexer": "ipython3",
   "version": "3.7.4"
  },
  "latex_envs": {
   "LaTeX_envs_menu_present": true,
   "autoclose": false,
   "autocomplete": true,
   "bibliofile": "biblio.bib",
   "cite_by": "apalike",
   "current_citInitial": 1,
   "eqLabelWithNumbers": true,
   "eqNumInitial": 1,
   "hotkeys": {
    "equation": "Ctrl-E",
    "itemize": "Ctrl-I"
   },
   "labels_anchors": false,
   "latex_user_defs": false,
   "report_style_numbering": false,
   "user_envs_cfg": false
  }
 },
 "nbformat": 4,
 "nbformat_minor": 2
}
