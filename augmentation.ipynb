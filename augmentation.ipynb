{
 "cells": [
  {
   "cell_type": "markdown",
   "metadata": {},
   "source": [
    "# Аугментация. ООП.\n",
    "\n",
    "Аугментация (от англ. \"augment\" - \"расширять\") - это процесс увеличения размера выборки за счет преобразования имеющихся изображений. Например, одним из самых простых способов аугментации является зеркальное отображение картинки. Таким образом, можно из N картинок получить 2\\*N изображений.\n",
    "\n",
    "<tr>\n",
    "<td><img style=\"transform: scaleX(-1); width:30%\" alt=\"Drawing\" src=\"./imgs/puppy-dog.jpg \" /></td>\n",
    "<td><img style=\"width:30%\" alt=\"Drawing\" src=\"./imgs/puppy-dog.jpg\" /></td>\n",
    "</tr>"
   ]
  },
  {
   "cell_type": "markdown",
   "metadata": {},
   "source": [
    "## Но сначала: как загрузить картинку?\n",
    "Есть несколько способов считать изображение и представить его в виде массива пикселей (например, это может быть numpy массив). Рассмотрим каждый из них по порядку, импортировав перед этим пакет matplotlib.pyplot, который поможет выводить массив пикселей в виде изображения. Строка \"%matplotlib inline\" - указывает jupyter notebook-у выводить изображения сразу под ячейкой, в которой используется matplotlib (это позволяет нам не писать явно plt.show( ) в каждой ячейке)."
   ]
  },
  {
   "cell_type": "code",
   "execution_count": null,
   "metadata": {
    "collapsed": true
   },
   "outputs": [],
   "source": [
    "%matplotlib inline\n",
    "import matplotlib.pyplot as plt"
   ]
  },
  {
   "cell_type": "markdown",
   "metadata": {},
   "source": [
    "### OpenCV"
   ]
  },
  {
   "cell_type": "code",
   "execution_count": null,
   "metadata": {
    "collapsed": true
   },
   "outputs": [],
   "source": [
    "import cv2"
   ]
  },
  {
   "cell_type": "code",
   "execution_count": null,
   "metadata": {},
   "outputs": [],
   "source": [
    "img = cv2.imread('./imgs/raccoon.jpg')\n",
    "print(type(img), img.shape)"
   ]
  },
  {
   "cell_type": "code",
   "execution_count": null,
   "metadata": {},
   "outputs": [],
   "source": [
    "plt.imshow(img)"
   ]
  },
  {
   "cell_type": "markdown",
   "metadata": {},
   "source": [
    "По умолчанию, openCV предполагает, что каналы в картинке расположены в порядке Blue Green Red, поэтому изображение выглядит не естественно. Чтобы конвертировать картинку из BGR в RGB, воспользуемся функцией cv2.cvtColor( )"
   ]
  },
  {
   "cell_type": "code",
   "execution_count": null,
   "metadata": {},
   "outputs": [],
   "source": [
    "img = cv2.cvtColor(img, cv2.COLOR_BGR2RGB)\n",
    "plt.imshow(img)"
   ]
  },
  {
   "cell_type": "markdown",
   "metadata": {},
   "source": [
    "### PIL.Image"
   ]
  },
  {
   "cell_type": "code",
   "execution_count": null,
   "metadata": {
    "collapsed": true
   },
   "outputs": [],
   "source": [
    "import PIL\n",
    "import numpy as np"
   ]
  },
  {
   "cell_type": "code",
   "execution_count": null,
   "metadata": {},
   "outputs": [],
   "source": [
    "pil_img = PIL.Image.open('./imgs/raccoon.jpg')\n",
    "print(type(pil_img), img.shape)"
   ]
  },
  {
   "cell_type": "markdown",
   "metadata": {},
   "source": [
    "Плюс PIL.Image изображений в том, что их можно отобразить при помощи встроенной функции display, сохраняя исходный размер изображения."
   ]
  },
  {
   "cell_type": "code",
   "execution_count": null,
   "metadata": {},
   "outputs": [],
   "source": [
    "display(pil_img)"
   ]
  },
  {
   "cell_type": "markdown",
   "metadata": {},
   "source": [
    "Но функци plt.imshow( ) также может принимать PIL картинку, но размер изображения, возможно, придется корректировать."
   ]
  },
  {
   "cell_type": "code",
   "execution_count": null,
   "metadata": {
    "scrolled": false
   },
   "outputs": [],
   "source": [
    "plt.figure(figsize=(10, 16)) # изменим размер графического окна\n",
    "plt.imshow(pil_img)\n",
    "plt.axis('off'); # удалим ось Х и ось У"
   ]
  },
  {
   "cell_type": "markdown",
   "metadata": {},
   "source": [
    "Конвертировать PIL изображение в numpy.ndarray можно при помощи функции np.asarray( )"
   ]
  },
  {
   "cell_type": "code",
   "execution_count": null,
   "metadata": {},
   "outputs": [],
   "source": [
    "img = np.asarray(pil_img)\n",
    "print(type(img), img.shape)"
   ]
  },
  {
   "cell_type": "markdown",
   "metadata": {},
   "source": [
    "---\n",
    "\n",
    "## Аугментация"
   ]
  },
  {
   "cell_type": "markdown",
   "metadata": {},
   "source": [
    "### pytorch transforms"
   ]
  },
  {
   "cell_type": "code",
   "execution_count": null,
   "metadata": {
    "collapsed": true
   },
   "outputs": [],
   "source": [
    "import torch\n",
    "from torchvision.transforms import (Compose, RandomAffine, RandomVerticalFlip, ToTensor)"
   ]
  },
  {
   "cell_type": "code",
   "execution_count": null,
   "metadata": {
    "collapsed": true
   },
   "outputs": [],
   "source": [
    "rotate_aug = RandomAffine(degrees=45, fillcolor=(255, 255, 255))"
   ]
  },
  {
   "cell_type": "code",
   "execution_count": null,
   "metadata": {},
   "outputs": [],
   "source": [
    "auged_img = rotate_aug(pil_img)\n",
    "plt.imshow(auged_img)"
   ]
  },
  {
   "cell_type": "code",
   "execution_count": null,
   "metadata": {},
   "outputs": [],
   "source": [
    "type(auged_img)"
   ]
  },
  {
   "cell_type": "markdown",
   "metadata": {},
   "source": [
    "### albumentations\n",
    "[github репозиторий](https://github.com/albu/albumentations)"
   ]
  },
  {
   "cell_type": "code",
   "execution_count": null,
   "metadata": {
    "collapsed": true
   },
   "outputs": [],
   "source": [
    "import albumentations as alb"
   ]
  },
  {
   "cell_type": "code",
   "execution_count": null,
   "metadata": {
    "collapsed": true
   },
   "outputs": [],
   "source": [
    "brightness_aug = alb.RandomBrightness(limit=0.5, always_apply=False, p=1)"
   ]
  },
  {
   "cell_type": "code",
   "execution_count": null,
   "metadata": {},
   "outputs": [],
   "source": [
    "auged_img = brightness_aug(image=img)['image']\n",
    "plt.imshow(auged_img)"
   ]
  },
  {
   "cell_type": "markdown",
   "metadata": {},
   "source": [
    "### imgaug\n",
    "[github репозиторий](https://github.com/aleju/imgaug)"
   ]
  },
  {
   "cell_type": "code",
   "execution_count": null,
   "metadata": {
    "collapsed": true
   },
   "outputs": [],
   "source": [
    "import imgaug.augmenters as iaa"
   ]
  },
  {
   "cell_type": "code",
   "execution_count": null,
   "metadata": {
    "collapsed": true
   },
   "outputs": [],
   "source": [
    "coarse_dropout_aug = iaa.CoarseDropout(p=0.5, size_percent=0.5, per_channel=True)"
   ]
  },
  {
   "cell_type": "code",
   "execution_count": null,
   "metadata": {},
   "outputs": [],
   "source": [
    "auged_img = coarse_dropout_aug.augment_image(img)\n",
    "plt.imshow(auged_img)"
   ]
  },
  {
   "cell_type": "markdown",
   "metadata": {},
   "source": [
    "---\n",
    "## ООП"
   ]
  },
  {
   "cell_type": "markdown",
   "metadata": {},
   "source": [
    "### Синтетический пример"
   ]
  },
  {
   "cell_type": "code",
   "execution_count": null,
   "metadata": {
    "collapsed": true
   },
   "outputs": [],
   "source": [
    "class Human():"
   ]
  },
  {
   "cell_type": "markdown",
   "metadata": {},
   "source": [
    "### Свой класс для аугментации\n",
    "Создадим свой класс для аугментации, который будет включать в себя все три приведенных выше библиотеки и иметь API сходное с torchvision.transforms.\n",
    "\n",
    "API - (Application Programming Interface - программный интерфейс программирования) это в каком-то смысле синоним слову \"протокол\". АПИ (как говорят программисты из России) - определяет функционал приложения или класса. Вот как в контексте общения двух программистов используется понятие АПИ:\n",
    "\n",
    "-(П1): Я хочу чтобы ты написал скрипт, в котором есть функция summ(array), которая принимает на вход список или numpy массив, а на выходе возвращает число, которое является суммой всех элементов\n",
    "\n",
    "-(П2): Принято, сделаю"
   ]
  },
  {
   "cell_type": "code",
   "execution_count": null,
   "metadata": {
    "collapsed": true
   },
   "outputs": [],
   "source": [
    "class MyAUG():"
   ]
  }
 ],
 "metadata": {
  "kernelspec": {
   "display_name": "Python 3",
   "language": "python",
   "name": "python3"
  },
  "language_info": {
   "codemirror_mode": {
    "name": "ipython",
    "version": 3
   },
   "file_extension": ".py",
   "mimetype": "text/x-python",
   "name": "python",
   "nbconvert_exporter": "python",
   "pygments_lexer": "ipython3",
   "version": "3.6.9"
  },
  "latex_envs": {
   "LaTeX_envs_menu_present": true,
   "autocomplete": true,
   "bibliofile": "biblio.bib",
   "cite_by": "apalike",
   "current_citInitial": 1,
   "eqLabelWithNumbers": true,
   "eqNumInitial": 1,
   "hotkeys": {
    "equation": "Ctrl-E",
    "itemize": "Ctrl-I"
   },
   "labels_anchors": false,
   "latex_user_defs": false,
   "report_style_numbering": false,
   "user_envs_cfg": false
  }
 },
 "nbformat": 4,
 "nbformat_minor": 2
}
