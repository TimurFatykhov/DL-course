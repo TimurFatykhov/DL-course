{
 "cells": [
  {
   "cell_type": "markdown",
   "metadata": {},
   "source": [
    "# Система. Датасет.\n",
    "\n",
    "На прошлом занятии мы узнали, каким образом мы можем загрузить картинку, представив ее в виде тензора. Сегодня мы научимся считывать большое количество картинок, делать это оптимально (в несколько потоков), используя имя файлов или папок как таргет (от англ. \"target\" - \"цель\", то есть класс картинки), и применять аугментацию \"на лету\". \n",
    "\n",
    "<img style=\"width:40%\" src=\"./images/os.jpg\">"
   ]
  },
  {
   "cell_type": "markdown",
   "metadata": {},
   "source": [
    "Для начала познакомимся с библиотекой os. Из названия можно догататься, что эта библиотека позволяет взаимодействовать с операционной системой: создавать и удалять файлы и папки, менять права пользователей на взаимодействие с ними, вне зависимости от операционной системы, создавать пути к файлам, узнавать пути к рабочим директориям и много другое."
   ]
  },
  {
   "cell_type": "markdown",
   "metadata": {},
   "source": [
    "## OS"
   ]
  },
  {
   "cell_type": "code",
   "execution_count": 1,
   "metadata": {
    "collapsed": true
   },
   "outputs": [],
   "source": [
    "import os"
   ]
  },
  {
   "cell_type": "markdown",
   "metadata": {},
   "source": [
    "Было сказано, что os способна создавать пути к файлам вне зависимости от операционной системы. Что это значит? В unix-подобных системах: MacOS, Linux, Ubuntu - путь к файлам разделяется прямым слэшем: /home/user/data/image.png. Но, например, в windows разделителем является обратный слэш и путь к файлу может выглядеть иначе: C\\User\\data\\image.png. Давайте попробуем создать путь до картинки с енотом из прошлой лекции. В зависимости от ОС (Операционной Системы), результат будет разным. Мы знаем что картинка лежит в папке **images**, а название картинки **racoon.jpg**. \n",
    "\n",
    "Для этого нам понадобится модуль path и функция join( ) из него. \n",
    "\n",
    "join(a, *p) - принимает через запятую названия папок и имя файла, компонуя из них путь к файлу."
   ]
  },
  {
   "cell_type": "code",
   "execution_count": 2,
   "metadata": {},
   "outputs": [
    {
     "data": {
      "text/plain": [
       "'images/raccoon.jpg'"
      ]
     },
     "execution_count": 2,
     "metadata": {},
     "output_type": "execute_result"
    }
   ],
   "source": [
    "path_to_racoon = os.path.join('images', 'raccoon.jpg')\n",
    "\n",
    "path_to_racoon"
   ]
  },
  {
   "cell_type": "markdown",
   "metadata": {},
   "source": [
    "Отлично, а теперь представим что у нас есть файл, который находится где-то глубоко в папках, создадим путь до него (путь выдуманный, можете скомпоновать другой на свое усмотрение)."
   ]
  },
  {
   "cell_type": "code",
   "execution_count": 3,
   "metadata": {},
   "outputs": [
    {
     "data": {
      "text/plain": [
       "'bucket/ml/data/file.txt'"
      ]
     },
     "execution_count": 3,
     "metadata": {},
     "output_type": "execute_result"
    }
   ],
   "source": [
    "random_path = os.path.join('bucket', 'ml', 'data', 'file.txt')\n",
    "\n",
    "random_path"
   ]
  },
  {
   "cell_type": "markdown",
   "metadata": {},
   "source": [
    "Теперь научимся доставать каждую часть пути отдельно. Чтобы из всего пути выделить только название файла, можно воспользоваться функцией os.path.basename( )."
   ]
  },
  {
   "cell_type": "code",
   "execution_count": 4,
   "metadata": {},
   "outputs": [
    {
     "data": {
      "text/plain": [
       "'file.txt'"
      ]
     },
     "execution_count": 4,
     "metadata": {},
     "output_type": "execute_result"
    }
   ],
   "source": [
    "os.path.basename(random_path)"
   ]
  },
  {
   "cell_type": "markdown",
   "metadata": {},
   "source": [
    "Чтобы быстро извлечь название папки на любом уровне, удобнее будеть использовать метод строки .split( ). Разделять будем либо по '/', либо по '\\', в зависимости от системы. Чтобы наша реализация была кроссплатформенная (независима от ОС) можно выявить какой разделитель используется при помощи свойства os.path.sep (сокращение от \"separator\" - \"разделитель\")"
   ]
  },
  {
   "cell_type": "code",
   "execution_count": 5,
   "metadata": {},
   "outputs": [
    {
     "data": {
      "text/plain": [
       "'/'"
      ]
     },
     "execution_count": 5,
     "metadata": {},
     "output_type": "execute_result"
    }
   ],
   "source": [
    "os.path.sep"
   ]
  },
  {
   "cell_type": "code",
   "execution_count": 6,
   "metadata": {},
   "outputs": [
    {
     "data": {
      "text/plain": [
       "['bucket', 'ml', 'data', 'file.txt']"
      ]
     },
     "execution_count": 6,
     "metadata": {},
     "output_type": "execute_result"
    }
   ],
   "source": [
    "random_path.split(os.path.sep)"
   ]
  },
  {
   "cell_type": "markdown",
   "metadata": {},
   "source": [
    "Например, название конечной папки - это элемент данного масссива по индексу [-2]."
   ]
  },
  {
   "cell_type": "code",
   "execution_count": 7,
   "metadata": {},
   "outputs": [
    {
     "data": {
      "text/plain": [
       "'data'"
      ]
     },
     "execution_count": 7,
     "metadata": {},
     "output_type": "execute_result"
    }
   ],
   "source": [
    "random_path.split(os.path.sep)[-2]"
   ]
  },
  {
   "cell_type": "markdown",
   "metadata": {},
   "source": [
    "## glob, os.listdir"
   ]
  },
  {
   "cell_type": "markdown",
   "metadata": {},
   "source": [
    "Довольно часто мы либо не помним как называются файлы, лежащие в определенной директории, либо хотим проитерироваться по всем находящимся в папке файлам. В обоих случаях мы хотим получить список файлов, находящихся в определенной директории. Сделать это позволяет библиотека glob или функция os.listdir( )\n",
    "\n",
    "Давайте посмотрим что лежит в папке data/cat_vs_dogs"
   ]
  },
  {
   "cell_type": "code",
   "execution_count": null,
   "metadata": {
    "collapsed": true
   },
   "outputs": [],
   "source": [
    "from glob import glob"
   ]
  },
  {
   "cell_type": "code",
   "execution_count": null,
   "metadata": {
    "collapsed": true
   },
   "outputs": [],
   "source": [
    "path_to_files = os.path.join('data', 'cats_vs_dogs')"
   ]
  },
  {
   "cell_type": "code",
   "execution_count": null,
   "metadata": {
    "collapsed": true
   },
   "outputs": [],
   "source": [
    "os.listdir(path_to_files)"
   ]
  },
  {
   "cell_type": "markdown",
   "metadata": {},
   "source": [
    "Точно такой же результат можно получить при помощи функции glob из модуля glob (да, названия одинаковые :). Только эта функция не просто перечисляет файлы в директории, а способна находить те из них, которые соответствуют определенному паттерну. Например, если мы хотим вывести только файлы со словом 'dog' в названии, то мы можем использовать паттерн 'dog*'. Звездочка в пути означает \"тут может находиться что угодно\". Проще понять на примере."
   ]
  },
  {
   "cell_type": "code",
   "execution_count": null,
   "metadata": {
    "collapsed": true
   },
   "outputs": [],
   "source": [
    "pattern = os.path.join('data', 'cats_vs_dogs', 'dog*')\n",
    "\n",
    "pattern"
   ]
  },
  {
   "cell_type": "code",
   "execution_count": null,
   "metadata": {
    "collapsed": true
   },
   "outputs": [],
   "source": [
    "glob(pattern)"
   ]
  },
  {
   "cell_type": "markdown",
   "metadata": {},
   "source": [
    "Как можно наблюдать, glob выводит не только список файлов в директории, но и полные пути к ним."
   ]
  },
  {
   "cell_type": "markdown",
   "metadata": {},
   "source": [
    "#### Задание\n",
    "\n",
    "С помощью полученных навыков из этого и предыдущих занятий, создайте два массива: images и targets - массив с тензорами и массив с таргетами. Создайте их таким образом, чтобы каждый тензор являлся отдельной картинкой и чтобы между массивами было соответствие: images[idx] содержал картинку с таргетом target[idx], где idx - индекс."
   ]
  },
  {
   "cell_type": "code",
   "execution_count": null,
   "metadata": {
    "collapsed": true
   },
   "outputs": [],
   "source": [
    "images = []\n",
    "targets = []\n",
    "\n",
    "# Ваш код здесь\n",
    "#\n",
    "#"
   ]
  },
  {
   "cell_type": "markdown",
   "metadata": {},
   "source": [
    "## Dataset"
   ]
  },
  {
   "cell_type": "markdown",
   "metadata": {},
   "source": [
    "Теперь у нас есть два списка: один с картинками, а второй с таргетами (классами). Теперь, если мы хотим получить пару: картинка, класс - то нам надо сначала определить индекс картинки, которая нас интересует, а потом извлечь картинку из массива images отдельно, извлечь таргет из массива targets отдельно. Сделать этот процесс удобнее позволит встроенная функция zip, которая \"сшивает\" списки, почти также как собачка на куртке соединяет зубья молнии. Но если мы захотим применять аугментацию, перемешивать датасет, подготавливать картинки параллельно, то столкнемся с потребностью изучать сторонние библиотеки и писать много кода. Идеальным решением будет использовать класс DataLoader из torch.utils.data"
   ]
  },
  {
   "cell_type": "code",
   "execution_count": null,
   "metadata": {
    "collapsed": true
   },
   "outputs": [],
   "source": [
    "import cv2\n",
    "\n",
    "class MyDataset():\n",
    "    def __init__(self, images, targets):\n",
    "        self.images = images\n",
    "        self.targets = targets\n",
    "        \n",
    "    \n",
    "    def __getitem__(self, idx):\n",
    "        img = self.images[idx]\n",
    "        img = cv2.resize(img, (256, 256))\n",
    "        \n",
    "        tgt = self.targets[idx]\n",
    "        return img, tgt\n",
    "    \n",
    "    \n",
    "    def __len__(self):\n",
    "        return len(self.images)"
   ]
  },
  {
   "cell_type": "code",
   "execution_count": null,
   "metadata": {
    "collapsed": true
   },
   "outputs": [],
   "source": [
    "dataset = MyDataset(images, targets)"
   ]
  },
  {
   "cell_type": "code",
   "execution_count": null,
   "metadata": {
    "collapsed": true
   },
   "outputs": [],
   "source": [
    "for img, tgt in dataset:\n",
    "    print(img.shape, tgt)"
   ]
  },
  {
   "cell_type": "markdown",
   "metadata": {},
   "source": [
    "### Dataset + augmentation"
   ]
  },
  {
   "cell_type": "code",
   "execution_count": null,
   "metadata": {
    "collapsed": true
   },
   "outputs": [],
   "source": [
    "import albumentations as alb"
   ]
  },
  {
   "cell_type": "code",
   "execution_count": null,
   "metadata": {
    "collapsed": true
   },
   "outputs": [],
   "source": [
    "class MyDataset():\n",
    "    def __init__(self, images, targets, transforms):\n",
    "        self.images = images\n",
    "        self.targets = targets\n",
    "        self.transforms = transforms\n",
    "        \n",
    "    \n",
    "    def __getitem__(self, idx):\n",
    "        img = self.images[idx]\n",
    "        img = cv2.resize(img, (256, 256))\n",
    "        img = self.transforms(image=img)['image']\n",
    "        \n",
    "        tgt = self.targets[idx]\n",
    "        return img, tgt\n",
    "    \n",
    "    \n",
    "    def __len__(self):\n",
    "        return len(self.images)"
   ]
  },
  {
   "cell_type": "code",
   "execution_count": null,
   "metadata": {
    "collapsed": true
   },
   "outputs": [],
   "source": [
    "transforms = alb.Compose([\n",
    "    alb.RandomBrightness(limit=0.5, always_apply=False, p=0.5), \n",
    "    alb.Rotate(limit=30, p=0.5)\n",
    "])"
   ]
  },
  {
   "cell_type": "code",
   "execution_count": null,
   "metadata": {
    "collapsed": true
   },
   "outputs": [],
   "source": [
    "dataset = MyDataset(images, targets, transforms)"
   ]
  },
  {
   "cell_type": "markdown",
   "metadata": {},
   "source": [
    "### Dataset + albumentations + чтение картинки"
   ]
  },
  {
   "cell_type": "markdown",
   "metadata": {},
   "source": [
    "Теперь инициализатор (конструктор) принимает на вход лишь пути к файлам с картинками, а сама картинки будет подгружаться во время итерирования по датасету."
   ]
  },
  {
   "cell_type": "code",
   "execution_count": null,
   "metadata": {
    "collapsed": true
   },
   "outputs": [],
   "source": [
    "class MyDataset():\n",
    "    def __init__(self, paths, transforms):\n",
    "        self.paths = paths\n",
    "        self.transforms = transforms\n",
    "        \n",
    "    \n",
    "    def __getitem__(self, idx):\n",
    "        img = None\n",
    "        tgt = None\n",
    "        \n",
    "        # тут вы должны считать картинку и определить\n",
    "        # ее таргет\n",
    "        \n",
    "        return img, tgt\n",
    "    \n",
    "    \n",
    "    def __len__(self):\n",
    "        return len(self.paths)"
   ]
  },
  {
   "cell_type": "markdown",
   "metadata": {},
   "source": [
    "## DataLoader\n",
    "\n",
    "DataLoader позволяет распараллелить процесс подгрузки данных, подгружая картинки сразу батчами, при этом перемешивая датасет каждый раз (если установить флаг shuffle=True)."
   ]
  },
  {
   "cell_type": "code",
   "execution_count": null,
   "metadata": {
    "collapsed": true
   },
   "outputs": [],
   "source": [
    "from torch.utils.data import DataLoader"
   ]
  },
  {
   "cell_type": "code",
   "execution_count": null,
   "metadata": {
    "collapsed": true
   },
   "outputs": [],
   "source": [
    "loader = DataLoader(\n",
    "    dataset=dataset, # объект с методами __getitem__() , __len__()\n",
    "    batch_size=2,   # размер батча\n",
    "    shuffle=True,  # если True, то датасет будет перемешиваться\n",
    "    num_workers=4 # кол-во потоков, которое можно выделить для параллельной подгрузки данных\n",
    "                   )"
   ]
  },
  {
   "cell_type": "code",
   "execution_count": null,
   "metadata": {
    "collapsed": true
   },
   "outputs": [],
   "source": [
    "for batch_imgs, batch_targets in loader:\n",
    "    print(batch_imgs.shape, batch_targets)"
   ]
  }
 ],
 "metadata": {
  "kernelspec": {
   "display_name": "Python 3",
   "language": "python",
   "name": "python3"
  },
  "language_info": {
   "codemirror_mode": {
    "name": "ipython",
    "version": 3
   },
   "file_extension": ".py",
   "mimetype": "text/x-python",
   "name": "python",
   "nbconvert_exporter": "python",
   "pygments_lexer": "ipython3",
   "version": "3.7.4"
  },
  "latex_envs": {
   "LaTeX_envs_menu_present": true,
   "autoclose": false,
   "autocomplete": true,
   "bibliofile": "biblio.bib",
   "cite_by": "apalike",
   "current_citInitial": 1,
   "eqLabelWithNumbers": true,
   "eqNumInitial": 1,
   "hotkeys": {
    "equation": "Ctrl-E",
    "itemize": "Ctrl-I"
   },
   "labels_anchors": false,
   "latex_user_defs": false,
   "report_style_numbering": false,
   "user_envs_cfg": false
  }
 },
 "nbformat": 4,
 "nbformat_minor": 2
}
