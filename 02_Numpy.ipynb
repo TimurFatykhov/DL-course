{
 "cells": [
  {
   "cell_type": "markdown",
   "metadata": {},
   "source": [
    "# <center>Numpy - NUMerical PYthon</center>\n",
    "\n",
    "Numpy - библиотека, реализованная на языке с++ (можете обратить внимание, что ошибки, возникающие при работе с этой библиотекой возникают в .cpp файлах - это общепринятое расширение для с++ файлов). Эта библиотека была создана для всех ученых и программистов, работа которых тесно связана с математикой. С помощью нее вы можете возводить в степень, вычислять корни, перемножать вектора, матрицы, тензоры, \"вырезать\" из них нужные области (как мы будем делать ниже) и многое другое. Кстати, благодаря тому, что библиотека реализована на с++, она работает очень шустро, ибо c++ - [компилируемый](https://ru.wikipedia.org/wiki/Компилируемый_язык_программирования) язык. \n",
    "\n",
    "Numpy - обязательный инструмент каждого дата аналитика, изучить его вдоль и поперек довольно трудоемкая и необязательная задача, ибо numpy настолько многогранен, что даже самые опытные пользователи всегда могут найти в нем что-то новое. "
   ]
  },
  {
   "cell_type": "markdown",
   "metadata": {},
   "source": [
    "## Содержание тетрадки: <a id='b'></a>\n",
    "<br>\n",
    "\n",
    "1. [Вектор и матрица в numpy](#h1)\n",
    "> 1.1 [Вектор](#h11)<br>\n",
    "> 1.2 [Матрица](#h12)<br>\n",
    "> 1.3 [Полезные операции над матрицами и векторами](#h13)\n",
    "\n",
    "2. [Генераторы случайных последовательностей (numpy.random)](#h2)\n",
    "> 2.1 [Равномерное распределение](#h21)<br>\n",
    "> 2.1 [Нормальное распределение](#h22)<br>\n",
    "> 2.1 [Нули и единицы](#h23)<br>\n",
    "\n",
    "3. [Индексирование](#h3)\n",
    "> 3.1 [Индексирование вектора](#h31)<br>\n",
    "> 3.2 [Индексирование матрицы](#h32)<br>\n"
   ]
  },
  {
   "cell_type": "markdown",
   "metadata": {},
   "source": [
    "## 1.Вектор и матрица в numpy <a id='h1'></a>"
   ]
  },
  {
   "cell_type": "markdown",
   "metadata": {},
   "source": [
    "Numpy можно назвать [фреймворком](https://ru.wikipedia.org/wiki/Фреймворк), ибо внутри данной библиотеки есть свои \"жители\": numpy-вектор, numpy-матрица и numpy-тензор - это означает, что если вы хотите перемножить python-списки по правилу скалярного произведения, используя numpy, то вам сначала надо конвертировать эти списки в numpy-вектора. \n",
    "\n",
    "Давайте для начала импортируем numpy. Его общепринятый синоним (alias) - np"
   ]
  },
  {
   "cell_type": "code",
   "execution_count": null,
   "metadata": {},
   "outputs": [],
   "source": [
    "import numpy as np"
   ]
  },
  {
   "cell_type": "markdown",
   "metadata": {},
   "source": [
    "<br>\n",
    "<br>\n",
    "<br>\n",
    "\n",
    "### 1.1 Вектор<a id='h11'></a>\n",
    "\n",
    "[содержание](#b) | [глава](#h1)"
   ]
  },
  {
   "cell_type": "markdown",
   "metadata": {},
   "source": [
    "Теперь попробуем скалярно перемножить один вектор на другой. Создадим python-списки, которые после конвертируем в numpy-array"
   ]
  },
  {
   "cell_type": "code",
   "execution_count": null,
   "metadata": {},
   "outputs": [],
   "source": [
    "a_list = [1, 3, 5, 7]\n",
    "b_list = [0, 2, 4, 6]"
   ]
  },
  {
   "cell_type": "markdown",
   "metadata": {},
   "source": [
    "Как вы значете перемножить один python-список на другой мы не можем, поэтому конвертируем их в numpy-array. Для этого воспользуемся функцией np.array"
   ]
  },
  {
   "cell_type": "code",
   "execution_count": null,
   "metadata": {},
   "outputs": [],
   "source": [
    "a_vector = np.array(a_list)\n",
    "b_vector = np.array(b_list)"
   ]
  },
  {
   "cell_type": "markdown",
   "metadata": {},
   "source": [
    "Чтобы [скалярно](https://ru.wikipedia.org/wiki/Скалярное_произведение) перемножить один вектор на другой, можно воспользоваться функцией np.dot()"
   ]
  },
  {
   "cell_type": "code",
   "execution_count": null,
   "metadata": {},
   "outputs": [],
   "source": [
    "np.dot(a_vector, b_vector)"
   ]
  },
  {
   "cell_type": "markdown",
   "metadata": {},
   "source": [
    "Или вызвать эту функцию от одного из них, передав в виде параметра второй (неважно в каком порядке)"
   ]
  },
  {
   "cell_type": "code",
   "execution_count": null,
   "metadata": {},
   "outputs": [],
   "source": [
    "a_vector.dot(b_vector), b_vector.dot(a_vector)"
   ]
  },
  {
   "cell_type": "markdown",
   "metadata": {},
   "source": [
    "Можно также выполнить поэлементное перемножение элементов векторов, только в таком случае длина векторов должна быть одинаковой"
   ]
  },
  {
   "cell_type": "code",
   "execution_count": null,
   "metadata": {},
   "outputs": [],
   "source": [
    "a_vector * b_vector"
   ]
  },
  {
   "cell_type": "markdown",
   "metadata": {},
   "source": [
    "<br>\n",
    "<br>\n",
    "<br>\n",
    "\n",
    "### 1.2 Матрица<a id='h12'></a>\n",
    "\n",
    "[содержание](#b) | [глава](#h1)\n",
    "\n",
    "Вектор мы создали, теперь перейдем к матрицам. Numpy-матрицу можно создать таким же способом как и вектор, только передав в функцию `np.array()` уже двумерный python-список. Создадим прямоугольную матрицу размером `(2,3)` - две строчки и три столбца:\n",
    "\n",
    "$\\begin{pmatrix}1 & 2 & 3\\\\4 & 5 & 6\\end{pmatrix}$"
   ]
  },
  {
   "cell_type": "code",
   "execution_count": null,
   "metadata": {},
   "outputs": [],
   "source": [
    "m1_list = [[1,2,3], [4,5,6]]\n",
    "\n",
    "m1_list"
   ]
  },
  {
   "cell_type": "markdown",
   "metadata": {},
   "source": [
    "Теперь создадим вторую матрицу, на которую будем умножать. Как вы знаете, количество столбцов у \"левой\" матрицы должно совпадать с количеством строк у \"правой\", поэтому новая матрица будет размером `(3,4)`:\n",
    "\n",
    "$\\begin{bmatrix}0 & -1 & 1 & 2\\\\-1 & 0 & 2 & 2\\\\2 & 1 & 1 & 0\\end{bmatrix}$"
   ]
  },
  {
   "cell_type": "code",
   "execution_count": null,
   "metadata": {},
   "outputs": [],
   "source": [
    "m2_list = [[0, -1, 1, 2], [-1, 0, 2, 2], [2, 1, 1, 0]]\n",
    "\n",
    "m2_list"
   ]
  },
  {
   "cell_type": "markdown",
   "metadata": {},
   "source": [
    "Теперь конвертируем их в numpy-матрицы"
   ]
  },
  {
   "cell_type": "code",
   "execution_count": null,
   "metadata": {},
   "outputs": [],
   "source": [
    "m1_matrix = np.array(m1_list)\n",
    "m2_matrix = np.array(m2_list)"
   ]
  },
  {
   "cell_type": "markdown",
   "metadata": {},
   "source": [
    "И перемножим матрицы (прежде чем выполнить следующую ячейку, предскажите, какой размер будет у результирующей матрицы). Перемножать матрицы можно точно таким же способом как и вектора"
   ]
  },
  {
   "cell_type": "code",
   "execution_count": null,
   "metadata": {},
   "outputs": [],
   "source": [
    "matrix_result = np.dot(m1_matrix, m2_matrix)\n",
    "matrix_result"
   ]
  },
  {
   "cell_type": "markdown",
   "metadata": {},
   "source": [
    "Можно также быстро проверить размерность матрицы, вызвав ее свойство .shape"
   ]
  },
  {
   "cell_type": "code",
   "execution_count": null,
   "metadata": {},
   "outputs": [],
   "source": [
    "matrix_result.shape"
   ]
  },
  {
   "cell_type": "markdown",
   "metadata": {},
   "source": [
    "Средствами numpy также можно изменить шейп (размерность) матрицы! Надо всего лишь вызвать метод reshape() от матрицы, которую хотим переформировать"
   ]
  },
  {
   "cell_type": "code",
   "execution_count": null,
   "metadata": {},
   "outputs": [],
   "source": [
    "matrix_result.reshape(4, 2)"
   ]
  },
  {
   "cell_type": "markdown",
   "metadata": {},
   "source": [
    "Теперь в нашей матрице 4 строки и 2 столбца. Можете заметить, что порядок заполнения новой матрицы значениями является прямым (две первые строки это первая строка старой матрицы, две вторые - последняя)\n",
    "\n",
    "Мы даже можем сделать из матрицы вектор и наоборот"
   ]
  },
  {
   "cell_type": "code",
   "execution_count": null,
   "metadata": {},
   "outputs": [],
   "source": [
    "vector_result = matrix_result.reshape(8)\n",
    "\n",
    "vector_result"
   ]
  },
  {
   "cell_type": "code",
   "execution_count": null,
   "metadata": {},
   "outputs": [],
   "source": [
    "vector_result.reshape(4, 2)"
   ]
  },
  {
   "cell_type": "markdown",
   "metadata": {},
   "source": [
    "Посмотрим какой тип переменной у вектора или матрицы"
   ]
  },
  {
   "cell_type": "code",
   "execution_count": null,
   "metadata": {},
   "outputs": [],
   "source": [
    "type(vector_result)"
   ]
  },
  {
   "cell_type": "code",
   "execution_count": null,
   "metadata": {},
   "outputs": [],
   "source": [
    "type(matrix_result)"
   ]
  },
  {
   "cell_type": "markdown",
   "metadata": {},
   "source": [
    "Как мы видим, любой многомерный объект в numpy имеет тип <font color='red'>`numpy.ndarray`</font> - \"n-dimensional array\" что переводится как \"n-размерный вектор\", то есть это может хоть вектор, хоть матрица, хоть тензор - все они будут иметь тип numpy.ndarray. Запомните это, далее мы будем использовать это обозначение, подразумевая под np.ndarray хоть вектор, матрицу, или тензор."
   ]
  },
  {
   "cell_type": "markdown",
   "metadata": {},
   "source": [
    "<br>\n",
    "<br>\n",
    "<br>\n",
    "\n",
    "### 1.3 Полезные операции над матрицами и векторами<a id='h13'></a>\n",
    "\n",
    "[содержание](#b) | [глава](#h1)"
   ]
  },
  {
   "cell_type": "markdown",
   "metadata": {},
   "source": [
    "Из np.ndarray также можно вычесть другой np.ndarray, а можно сложить их или разделить (поэлементно - это значит, что размерности должны совпадать)"
   ]
  },
  {
   "cell_type": "code",
   "execution_count": null,
   "metadata": {},
   "outputs": [],
   "source": [
    "a_vector = np.array([1,2,3,4])\n",
    "b_vector = np.array([-1, -2, -3, -4])"
   ]
  },
  {
   "cell_type": "code",
   "execution_count": null,
   "metadata": {},
   "outputs": [],
   "source": [
    "a_vector + b_vector"
   ]
  },
  {
   "cell_type": "code",
   "execution_count": null,
   "metadata": {},
   "outputs": [],
   "source": [
    "a_vector - b_vector"
   ]
  },
  {
   "cell_type": "code",
   "execution_count": null,
   "metadata": {},
   "outputs": [],
   "source": [
    "a_vector / b_vector"
   ]
  },
  {
   "cell_type": "markdown",
   "metadata": {},
   "source": [
    "Можно добавить любое число ко всем элементам np.ndarray или умножить/разделить"
   ]
  },
  {
   "cell_type": "code",
   "execution_count": null,
   "metadata": {},
   "outputs": [],
   "source": [
    "a_vector + 100"
   ]
  },
  {
   "cell_type": "code",
   "execution_count": null,
   "metadata": {},
   "outputs": [],
   "source": [
    "b_vector - 1000"
   ]
  },
  {
   "cell_type": "code",
   "execution_count": null,
   "metadata": {},
   "outputs": [],
   "source": [
    "a_vector * 5"
   ]
  },
  {
   "cell_type": "markdown",
   "metadata": {},
   "source": [
    "Также есть возможность возвести в степень, взять корень, вычислить синус/косинус для каждого значения вектора и многое другое"
   ]
  },
  {
   "cell_type": "code",
   "execution_count": null,
   "metadata": {},
   "outputs": [],
   "source": [
    "print(a_vector ** 3)     # возвести каждое значение в 3 степень\n",
    "print(np.sqrt(a_vector)) # вычислить корень\n",
    "print(np.sin(a_vector))  # вычислить синус\n",
    "print(np.cos(a_vector))  # вычислить косинус"
   ]
  },
  {
   "cell_type": "markdown",
   "metadata": {},
   "source": [
    "В numpy также реализованы агрегатные функции (это такие функции, которые принимают вектор/матрицу/тензор, а возвращают число): вычисление среднего значения, максимального, минимального, вычисление суммы или произведения элементов."
   ]
  },
  {
   "cell_type": "code",
   "execution_count": null,
   "metadata": {},
   "outputs": [],
   "source": [
    "# среднее\n",
    "\n",
    "a_vector.mean(), np.mean(a_vector)"
   ]
  },
  {
   "cell_type": "code",
   "execution_count": null,
   "metadata": {},
   "outputs": [],
   "source": [
    "# сумма\n",
    "\n",
    "a_vector.sum(), np.sum(a_vector)"
   ]
  },
  {
   "cell_type": "code",
   "execution_count": null,
   "metadata": {},
   "outputs": [],
   "source": [
    "# произведение\n",
    "\n",
    "a_vector.prod(), np.prod(a_vector)"
   ]
  },
  {
   "cell_type": "code",
   "execution_count": null,
   "metadata": {},
   "outputs": [],
   "source": [
    "# максимальное/минимальное значения\n",
    "\n",
    "a_vector.max(), a_vector.min()"
   ]
  },
  {
   "cell_type": "markdown",
   "metadata": {},
   "source": [
    "То же самое и с матрицами. Но иногда нам надо вычислить агрегатную функцию по столбцам или по строкам, а не по всей матрице сразу. В таком случае, при вызове функции надо указать измерение, в котором требуется вычислить агрегатную функцию"
   ]
  },
  {
   "cell_type": "code",
   "execution_count": null,
   "metadata": {},
   "outputs": [],
   "source": [
    "matrix = np.array([[11,12,13,14], [21,22,23,24], [31,32,33,34]])\n",
    "\n",
    "matrix"
   ]
  },
  {
   "cell_type": "code",
   "execution_count": null,
   "metadata": {},
   "outputs": [],
   "source": [
    "matrix.sum(axis=0) # сумма по строкам (нулевое измерение)"
   ]
  },
  {
   "cell_type": "code",
   "execution_count": null,
   "metadata": {},
   "outputs": [],
   "source": [
    "matrix.sum(axis=1) # сумма по столбцам (первое измерение)"
   ]
  },
  {
   "cell_type": "markdown",
   "metadata": {},
   "source": [
    "Вы можете заметить, что теперь результат стал вектором-строкой. Чтобы сохранить размерность, то есть получить результат в виде столбца (ведь мы вычисляем сумму столбцов), надо дополнительно указать `keepdims=True` (keep dimensions - сохранить измерения)"
   ]
  },
  {
   "cell_type": "code",
   "execution_count": null,
   "metadata": {},
   "outputs": [],
   "source": [
    "matrix.sum(axis=1, keepdims=True) # сумма по столбцам (первое измерение)"
   ]
  },
  {
   "cell_type": "code",
   "execution_count": null,
   "metadata": {},
   "outputs": [],
   "source": [
    "matrix.max(axis=0) # функция max() по строкам - то есть максимумы в каждом столбце"
   ]
  },
  {
   "cell_type": "code",
   "execution_count": null,
   "metadata": {},
   "outputs": [],
   "source": [
    "matrix.max(axis=1, keepdims=True) # функция max() по столбцам - то есть максимумы в каждой строке"
   ]
  },
  {
   "cell_type": "markdown",
   "metadata": {},
   "source": [
    "то же самое работает и с функциями `prod()`, `min()`, `mean()`, `var()` и другими агрегатными функциями."
   ]
  },
  {
   "cell_type": "markdown",
   "metadata": {},
   "source": [
    "<br>\n",
    "<br>\n",
    "<br>\n",
    "\n",
    "**А сейчас блок информации со звездочкой**. Numpy поддерживает broadcast операции (широковещательные операции). Например, представьте что вы хотите к первому столбцу матрицы прибавить 1, второму 2, третьему 3 и тд. Тогда вы можете попросить numpy прибавить к матрице вектор, состоящий из значений [1, 2, 3, и тд]. Если длина вектора совпадет с количеством столбцов, то numpy поймет, что операцию требуется выполнить в \"широковещательном режиме\", то есть прибавить вектор к каждой строке матрицы отдельно. Давайте попробуем"
   ]
  },
  {
   "cell_type": "code",
   "execution_count": null,
   "metadata": {},
   "outputs": [],
   "source": [
    "matrix = np.array([[11,12,13,14], [21,22,23,24], [31,32,33,34]])\n",
    "\n",
    "matrix"
   ]
  },
  {
   "cell_type": "code",
   "execution_count": null,
   "metadata": {},
   "outputs": [],
   "source": [
    "a = np.array([1, 2, 3, 4])\n",
    "\n",
    "a"
   ]
  },
  {
   "cell_type": "code",
   "execution_count": null,
   "metadata": {},
   "outputs": [],
   "source": [
    "matrix - a"
   ]
  },
  {
   "cell_type": "markdown",
   "metadata": {},
   "source": [
    "Также можно вычесть значения не из строк, а из столбцов. Только тогда вектор *a* должен быть не вектором-строкой, а вектором-столбцом, то есть иметь шейп (3, 1) - 3 строки и 1 столбец"
   ]
  },
  {
   "cell_type": "code",
   "execution_count": null,
   "metadata": {},
   "outputs": [],
   "source": [
    "a = np.array([1, 2, 3]).reshape((3, 1))\n",
    "\n",
    "a"
   ]
  },
  {
   "cell_type": "code",
   "execution_count": null,
   "metadata": {},
   "outputs": [],
   "source": [
    "matrix - a"
   ]
  },
  {
   "cell_type": "markdown",
   "metadata": {},
   "source": [
    "<br>\n",
    "<br>\n",
    "<br>\n",
    "\n",
    "## 2. Генераторы случайных последовательностей (numpy.random) <a id='h2'></a>\n",
    "[содержание](#b)"
   ]
  },
  {
   "cell_type": "markdown",
   "metadata": {},
   "source": [
    "В numpy также можно создавать случайные вектора и матрицы, используя при этом различные [распределения](https://ru.wikipedia.org/wiki/Распределение_вероятностей). Если по-простому, распределение вероятностей - это правило, которое описывает как часто будет возникать та или иная величина (например с какой вероятностью будет появляться на свет число 0.5, или 1, или любое другое). Самые распространенные в использовании это [равномерное](https://ru.wikipedia.org/wiki/Равномерное_распределение) и [нормальное](https://ru.wikipedia.org/wiki/Нормальное_распределение) распределения."
   ]
  },
  {
   "cell_type": "markdown",
   "metadata": {},
   "source": [
    "###  2.1 Равномерное распределение<a id='h21'></a>\n",
    "[содержание](#b) | [глава](#h2)\n",
    "\n",
    "Как можно догадаться из названия, в таком распределении вероятность появления каждого значение одинакова. Например, мы хотим случайно генерировать число между 0 и 10. Если при этом мы хотим, чтобы любое число из этого промежутка появлялось с одинаковой вероятностью, тогда используем np.random.uniform, указывая границы генерации"
   ]
  },
  {
   "cell_type": "code",
   "execution_count": null,
   "metadata": {},
   "outputs": [],
   "source": [
    "np.random.uniform(low = 0, high = 10)"
   ]
  },
  {
   "cell_type": "markdown",
   "metadata": {},
   "source": [
    "Отлично, а теперь зададим еще и количество таких генераций, сгенерируем 15 значений"
   ]
  },
  {
   "cell_type": "code",
   "execution_count": null,
   "metadata": {},
   "outputs": [],
   "source": [
    "np.random.uniform(low = 0, high = 10, size = 15)"
   ]
  },
  {
   "cell_type": "markdown",
   "metadata": {},
   "source": [
    "Ого! Да это же вектор! То есть эта функций возвращает нам numpy-array. Теперь, изменив его шейп, мы можем получить матрицу. Давайте сделаем из этого вектора матрицу размером (5, 3)"
   ]
  },
  {
   "cell_type": "code",
   "execution_count": null,
   "metadata": {},
   "outputs": [],
   "source": [
    "random_vector = np.random.uniform(low = 0, high = 10, size = 15)\n",
    "\n",
    "random_matrix = random_vector.reshape((5, 3))\n",
    "random_matrix"
   ]
  },
  {
   "cell_type": "markdown",
   "metadata": {},
   "source": [
    "На самом деле мы могли получить такую матрицу указав шейп матрицы в параметре size"
   ]
  },
  {
   "cell_type": "code",
   "execution_count": null,
   "metadata": {},
   "outputs": [],
   "source": [
    "random_vector = np.random.uniform(low = 0, high = 10, size = (5, 3))\n",
    "\n",
    "random_matrix = random_vector.reshape((5, 3))\n",
    "random_matrix"
   ]
  },
  {
   "cell_type": "markdown",
   "metadata": {},
   "source": [
    "Вы могли заметить, что значения отличаются - это потому что каждый вызов функций из numpy.random - это псевдослучайный процесс. Но и его можно обуздать! Если вы хотите, чтобы в двух различных местах numpy.random выдал вам один и тот же результат, то перед вызовом функции установите random_seed. Random_seed - это \"семя\" из которого произростают случайные последовательности, подробнее в [статье](https://habr.com/en/post/132217/) с habr. Установить семя можно при помощи функции np.radnom.seed(), вы можете выбрать любое целочисленное значение, я предпочту 17"
   ]
  },
  {
   "cell_type": "code",
   "execution_count": null,
   "metadata": {},
   "outputs": [],
   "source": [
    "np.random.seed(17)\n",
    "np.random.uniform(0, 10, 3)"
   ]
  },
  {
   "cell_type": "markdown",
   "metadata": {},
   "source": [
    "И теперь исполним код еще раз, вы увидите, что значения одинаковы"
   ]
  },
  {
   "cell_type": "code",
   "execution_count": null,
   "metadata": {},
   "outputs": [],
   "source": [
    "np.random.seed(17)\n",
    "np.random.uniform(0, 10, 3)"
   ]
  },
  {
   "cell_type": "markdown",
   "metadata": {},
   "source": [
    "Попробуйте с другими значениями семени и попробуйте убрать семя вовсе, посмотрите что получится.\n",
    "\n",
    "<br>\n",
    "<br>\n",
    "<br>\n",
    "<br>"
   ]
  },
  {
   "cell_type": "markdown",
   "metadata": {},
   "source": [
    "Также у равномерного распределения есть замечательное свойство: если вы умножите случайную величину из равномерного распределения с границами 0, 10 на 7, то тогда ваша величина будет из равномерного распределения с границами 0, 70. Или если границы были a, b и вы умножили значение на c и добавили к нему d, тогда распределение будет с границами a\\*c + d, b\\*c + d. \n",
    "\n",
    "Поэтому существует функция, которая генерирует случайную равномерную величину из распределения с границами 0, 1, называется она np.random.rand(). Используя свойство равномерного распределения из ее результата можно получить равномерное распределение с любыми границами. Более того, из нее можно получить любое известное математике распределение, но это далеко за границами нашего курса. Чтобы не заниматься этим самостоятельно (получать из равномерного распределения остальные и существует семейство функций np.random)\n",
    "\n",
    "np.random.rand принимает на вход только размерность, ибо границы у нее всегда 0, 1. Используя вышеупомянутое свойство, получим из этой функции равномерное распределение с границами -5, 5"
   ]
  },
  {
   "cell_type": "code",
   "execution_count": null,
   "metadata": {},
   "outputs": [],
   "source": [
    "np.random.rand(10) * 10 - 5"
   ]
  },
  {
   "cell_type": "markdown",
   "metadata": {},
   "source": [
    "Или получим сразу матрицу (5,5)"
   ]
  },
  {
   "cell_type": "code",
   "execution_count": null,
   "metadata": {},
   "outputs": [],
   "source": [
    "np.random.rand(5, 5) * 10 - 5"
   ]
  },
  {
   "cell_type": "markdown",
   "metadata": {},
   "source": [
    "<br>\n",
    "<br>\n",
    "\n",
    "А что если мы хотим всегда получать целочисленные значения? В таком случае нам потребуется функция np.random.randint()"
   ]
  },
  {
   "cell_type": "code",
   "execution_count": null,
   "metadata": {},
   "outputs": [],
   "source": [
    "np.random.randint(0, 10, size=15)"
   ]
  },
  {
   "cell_type": "code",
   "execution_count": null,
   "metadata": {},
   "outputs": [],
   "source": [
    "np.random.randint(-5, 5, size=(3, 2))"
   ]
  },
  {
   "cell_type": "markdown",
   "metadata": {},
   "source": [
    "<br>\n",
    "<br>\n",
    "<br>\n",
    "\n",
    "### 2.2 Нормальное распределение<a id='h22'></a>\n",
    "[содержание](#b) | [глава](#h2)\n",
    "\n",
    "Существует предположение что большинство случайностей подчинается именно этому закону распределения, например если вы будете стараться попасть снежком в окно, то следы от ваших бросков будут распределены по нормальному закону: будет видно, куда вы стараетесь попасть - центр распределения и будет видно насколько вы точны - разброс распределения. Таким образом, у нормального распределения нет границ, у него есть центр и сила разброса - или иначе \"математическо ожидание\" и \"среднеквадратическое отклонение\". \n",
    "\n",
    "Проще понять, если сгенерировать значения из этого распределения. Сгенерируем 1000 значений с центром в 10 и разбросом равным 2. Это довольно сильный разброс, ибо нормальное распределение устроено таким образом, что почти все значения отдаляются от центра не далее чем на три среднеквадратических отклонения, то есть, мы ожидаем, что *почти* (именно *почти*) все значения будут между 10 - 2\\*3 и 10 + 2\\*3."
   ]
  },
  {
   "cell_type": "code",
   "execution_count": null,
   "metadata": {},
   "outputs": [],
   "source": [
    "vector_normal = np.random.normal(10, 2, size = 1000)"
   ]
  },
  {
   "cell_type": "markdown",
   "metadata": {},
   "source": [
    "А сейчас штрихами на графике мы отобразим значения, которые теперь хранятся в векторе `vector_normal`. X-координата каждого штриха - это значение в векторе `vector_normal`. Не вникайте в код, обратите свое внимание только на плотность штрихов. Про отрисовку графиков мы поговорим позже."
   ]
  },
  {
   "cell_type": "code",
   "execution_count": null,
   "metadata": {},
   "outputs": [],
   "source": [
    "import matplotlib.pyplot as plt # библиотека для отрисовки графиков и картинок\n",
    "\n",
    "\n",
    "plt.scatter(x = vector_normal, # х-координата каждого штриха на графике\n",
    "            y = np.zeros(len(vector_normal)), # y-координата каждого штриха (установим все нули)\n",
    "            marker='|',        # форма штриха\n",
    "            s=1000,            # размер штриха\n",
    "            alpha=0.2,         # прозрачность (чем меньше, теп прозрачнее)\n",
    "            color='red')       # цвет"
   ]
  },
  {
   "cell_type": "markdown",
   "metadata": {},
   "source": [
    "Как вы могли заметить, почти все значения на самом деле лежат между 4 и 16 и лишь изредка выходят за эти границы. Также видно, что плотность штрихов увеличивается с приближением к координате x=10 - центру нормального распределения. Поиграйте с различными значениями функции np.random.normal и отследите как меняется плотность штрихов на графике."
   ]
  },
  {
   "cell_type": "markdown",
   "metadata": {},
   "source": [
    "<br>\n",
    "<br>\n",
    "<br>\n",
    "\n",
    "Нормальное распределение также обладает довольно интересными свойствами, например, любой нормальное распределение (с любыми центром и среднекв. отклонением) можно получить из нормального с центром в 0 и среднекв. отклонением равным 1, N(0, 1) - более короткое обозначение такого распределения. Если вы хотите из N(0, 1) получить N(m, v), то вам нужно случайную величину из N(0, 1) умножить на v и прибавить m. Функция, которая генерирует случайную величину из N(0, 1) называется np.random.rand, и она принимает на вход лишь размерности генерируемого вектора/матрицы/тензора. Проверим это свойство, получив примерно такой же график как при использовании np.random.normal(10, 2, size=1000)"
   ]
  },
  {
   "cell_type": "code",
   "execution_count": null,
   "metadata": {},
   "outputs": [],
   "source": [
    "vector_normal = np.random.randn(1000) * 2 + 10\n",
    "\n",
    "plt.scatter(x = vector_normal,y = np.zeros(len(vector_normal)), marker='|', s=1000, alpha=0.2, color='red')"
   ]
  },
  {
   "cell_type": "markdown",
   "metadata": {},
   "source": [
    "Кстати, давайте посмотрим на среднее значение полученной выборки (дисперсию вычислим в домашней работе)"
   ]
  },
  {
   "cell_type": "code",
   "execution_count": null,
   "metadata": {},
   "outputs": [],
   "source": [
    "vector_normal.mean()"
   ]
  },
  {
   "cell_type": "markdown",
   "metadata": {},
   "source": [
    "Чем больше размер генерируемой выборки, тем ближе значением будет к 10 (как мы и установили ранее)"
   ]
  },
  {
   "cell_type": "markdown",
   "metadata": {},
   "source": [
    "<br>\n",
    "<br>\n",
    "<br>\n",
    "\n",
    "### 2.3 Нули и единицы<a id='h23'></a>\n",
    "[содержание](#b) | [глава](#h2)"
   ]
  },
  {
   "cell_type": "markdown",
   "metadata": {},
   "source": [
    "Хорошо, а что если мы хотим сгенерировать матрицу из единиц или нулей? Для таких случаев есть функции `np.ones()`, `np.ones_like()` и `np.zeros()`, `np.zeros_like()`.\n",
    "\n",
    "Получим матрицу размером (2, 5) состояющую из единиц при помощи функции `np.ones()`, указав размерности как параметр функции"
   ]
  },
  {
   "cell_type": "code",
   "execution_count": null,
   "metadata": {},
   "outputs": [],
   "source": [
    "ones = np.ones((2, 5))\n",
    "\n",
    "ones"
   ]
  },
  {
   "cell_type": "markdown",
   "metadata": {},
   "source": [
    "А теперь создадим матрицу нулей размером (3, 3)"
   ]
  },
  {
   "cell_type": "code",
   "execution_count": null,
   "metadata": {},
   "outputs": [],
   "source": [
    "zeros =np.zeros((3,3))\n",
    "\n",
    "zeros"
   ]
  },
  {
   "cell_type": "markdown",
   "metadata": {},
   "source": [
    "Функция `np.ones_like()` принимает на вход математический объект (вектор, матрицу, тензор) и возвращает объект такой же размерности, только заполненный единицами. Давайте сделаем матрицу с такой же размерностью как и матрица нулей, только заполним ее единицами"
   ]
  },
  {
   "cell_type": "code",
   "execution_count": null,
   "metadata": {},
   "outputs": [],
   "source": [
    "np.ones_like(zeros)"
   ]
  },
  {
   "cell_type": "markdown",
   "metadata": {},
   "source": [
    "Функция `np.zeros_like()` аналогична. Давайте сделаем матрицу с такой же размерностью как и матрица единиц, только заполним ее нулями"
   ]
  },
  {
   "cell_type": "code",
   "execution_count": null,
   "metadata": {},
   "outputs": [],
   "source": [
    "np.zeros_like(ones)"
   ]
  },
  {
   "cell_type": "markdown",
   "metadata": {},
   "source": [
    "Если вы хотите получить вектор со значениями от a до b с шагом s, то можно воспользоваться функцией np.arange. Создадим вектор со значениями от 10 до 20 с шагом 2 (помните что верхняя граница не включается, то есть значения будут до 18)"
   ]
  },
  {
   "cell_type": "code",
   "execution_count": null,
   "metadata": {},
   "outputs": [],
   "source": [
    "np.arange(10, 20, 2)"
   ]
  },
  {
   "cell_type": "markdown",
   "metadata": {},
   "source": [
    "<br>\n",
    "<br>\n",
    "<br>\n",
    "\n",
    "## 3. Индексирование <a id='h3'></a>\n",
    "[содержание](#b)\n",
    "\n",
    "Индексирование - это мощный инструмент в numpy, позволяющий извлекать из np.ndarray значения точно из тех мест, из которых вы хотите, перейдем сразу к практике."
   ]
  },
  {
   "cell_type": "markdown",
   "metadata": {},
   "source": [
    "### 3.1 Индексирование вектора <a id='h31'></a>\n",
    "[содержание](#b) | [глава](#h3)"
   ]
  },
  {
   "cell_type": "markdown",
   "metadata": {},
   "source": [
    "Простой случай: мы хотим вытащить элемент, находящийся по индексу 7"
   ]
  },
  {
   "cell_type": "code",
   "execution_count": null,
   "metadata": {},
   "outputs": [],
   "source": [
    "a = np.arange(15) # создадим массив заполненный значениями от 0 до 14 (15 не включается)\n",
    "\n",
    "a"
   ]
  },
  {
   "cell_type": "code",
   "execution_count": null,
   "metadata": {},
   "outputs": [],
   "source": [
    "a[7]"
   ]
  },
  {
   "cell_type": "markdown",
   "metadata": {},
   "source": [
    "Просто как и со списками. Также как и в списках, мы можем извлечь элементы с индексом от f до g с шагом h. Для этого нам надо указать эти значения в квадратных скобках через двоеточия. Выведем элементы с 1-го по 9 с шагом 3"
   ]
  },
  {
   "cell_type": "code",
   "execution_count": null,
   "metadata": {},
   "outputs": [],
   "source": [
    "a[1:9:3]"
   ]
  },
  {
   "cell_type": "markdown",
   "metadata": {},
   "source": [
    "Если вы хотите просто распечатать элементы, начиная с 5-го и до конца, то можно не указывать g и шаг"
   ]
  },
  {
   "cell_type": "code",
   "execution_count": null,
   "metadata": {},
   "outputs": [],
   "source": [
    "a[5:]"
   ]
  },
  {
   "cell_type": "markdown",
   "metadata": {},
   "source": [
    "Или до 5-го"
   ]
  },
  {
   "cell_type": "code",
   "execution_count": null,
   "metadata": {},
   "outputs": [],
   "source": [
    "a[:5]"
   ]
  },
  {
   "cell_type": "markdown",
   "metadata": {},
   "source": [
    "Или все от начала до конца с шагом 2, тогда можно не указывать начало и конец диапазона"
   ]
  },
  {
   "cell_type": "code",
   "execution_count": null,
   "metadata": {},
   "outputs": [],
   "source": [
    "a[::2]"
   ]
  },
  {
   "cell_type": "markdown",
   "metadata": {},
   "source": [
    "Или вообще все элементы, для этого можно не указывать ни начало, ни шаг, ни конец. Разумеется результат будет таким же, как если бы мы вывели просто переменную, но позже мы узнаем зачем нужен такой функционал с двоеточием"
   ]
  },
  {
   "cell_type": "code",
   "execution_count": null,
   "metadata": {},
   "outputs": [],
   "source": [
    "a[:]"
   ]
  },
  {
   "cell_type": "markdown",
   "metadata": {},
   "source": [
    "А вот на что python-список не способен: выведем значения по индексам 3, 9 и -1. Для этого передадим интересующие нас индексы в виде списка. Напомню, что -1 означает первый с конца"
   ]
  },
  {
   "cell_type": "code",
   "execution_count": null,
   "metadata": {
    "scrolled": true
   },
   "outputs": [],
   "source": [
    "a[[3, 9, -1]]"
   ]
  },
  {
   "cell_type": "markdown",
   "metadata": {},
   "source": [
    "<br>\n",
    "<br>\n",
    "<br>\n",
    "\n",
    "### 3.2 Индексирование матрицы<a id='h32'></a>\n",
    "[содержание](#b) | [глава](#h3)"
   ]
  },
  {
   "cell_type": "code",
   "execution_count": null,
   "metadata": {},
   "outputs": [],
   "source": [
    "m = np.arange(20).reshape(5,4)\n",
    "\n",
    "m"
   ]
  },
  {
   "cell_type": "markdown",
   "metadata": {},
   "source": [
    "Если в np.ndarray есть несколько размерностей, то есть это матрица или тензор, то индексы для каждой из них надо указывать через запятую. Проще понять на примере.\n",
    "\n",
    "Выведем последние два элемента первой и второй строк (до запятой указываем какие вывести строки, а после какие столбцы - результат будет на пересечении)"
   ]
  },
  {
   "cell_type": "code",
   "execution_count": null,
   "metadata": {},
   "outputs": [],
   "source": [
    "m[0:2, 2:4] # выведем первые две строки и от них последние два столбца"
   ]
  },
  {
   "cell_type": "markdown",
   "metadata": {},
   "source": [
    "Выведем все элементы второго и третьего столбцов"
   ]
  },
  {
   "cell_type": "code",
   "execution_count": null,
   "metadata": {},
   "outputs": [],
   "source": [
    "m[:, 1:3] # двоеточие до запятой означает выделить все строки"
   ]
  },
  {
   "cell_type": "markdown",
   "metadata": {},
   "source": [
    "Или все элементы третьей строки"
   ]
  },
  {
   "cell_type": "code",
   "execution_count": null,
   "metadata": {},
   "outputs": [],
   "source": [
    "m[2, :]"
   ]
  },
  {
   "cell_type": "markdown",
   "metadata": {},
   "source": [
    "Но мы можем не только выводить значения, но и перезаписывать их! Обнулим первую и последнюю строки. Но перед этим создадим копию нашей матрицы, вызвав метод .copy(). Если вы просто присвоите m_copy = m, то изменяя матрицу m_copy, вы будете менять и матрицу m (также как и с python-списками)"
   ]
  },
  {
   "cell_type": "code",
   "execution_count": null,
   "metadata": {},
   "outputs": [],
   "source": [
    "m_copy = m.copy()"
   ]
  },
  {
   "cell_type": "code",
   "execution_count": null,
   "metadata": {},
   "outputs": [],
   "source": [
    "m_copy[[0, 4], :] = 0 # до запятой [0, 4] - означает взять нулевую и четвертую по индексу строки\n",
    "\n",
    "m_copy"
   ]
  }
 ],
 "metadata": {
  "kernelspec": {
   "display_name": "Python 3",
   "language": "python",
   "name": "python3"
  },
  "language_info": {
   "codemirror_mode": {
    "name": "ipython",
    "version": 3
   },
   "file_extension": ".py",
   "mimetype": "text/x-python",
   "name": "python",
   "nbconvert_exporter": "python",
   "pygments_lexer": "ipython3",
   "version": "3.7.4"
  },
  "latex_envs": {
   "LaTeX_envs_menu_present": true,
   "autoclose": false,
   "autocomplete": true,
   "bibliofile": "biblio.bib",
   "cite_by": "apalike",
   "current_citInitial": 1,
   "eqLabelWithNumbers": true,
   "eqNumInitial": 1,
   "hotkeys": {
    "equation": "Ctrl-E",
    "itemize": "Ctrl-I"
   },
   "labels_anchors": false,
   "latex_user_defs": false,
   "report_style_numbering": false,
   "user_envs_cfg": false
  }
 },
 "nbformat": 4,
 "nbformat_minor": 2
}
