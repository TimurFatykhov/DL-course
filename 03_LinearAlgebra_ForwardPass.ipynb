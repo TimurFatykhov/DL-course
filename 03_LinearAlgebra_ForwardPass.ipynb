{
 "cells": [
  {
   "cell_type": "markdown",
   "metadata": {},
   "source": [
    "# Линейная алгебра. Поток тензоров.\n",
    "[Слайды \"Матрицы и векторы\"](https://docs.google.com/presentation/d/e/2PACX-1vTMu3au2p6MYIfy5kU5sMHGn1PWxn2mlBj1OPYVmxnmhp2Ik5qQn3nUbrSIYdLiQlDiXYiTwlVg9tSz/pub?start=false&loop=false&delayms=3000) | [Слайды \"Как устроены нейросети\"](https://docs.google.com/presentation/d/e/2PACX-1vTMu3au2p6MYIfy5kU5sMHGn1PWxn2mlBj1OPYVmxnmhp2Ik5qQn3nUbrSIYdLiQlDiXYiTwlVg9tSz/pub?start=false&loop=false&delayms=3000)\n",
    "\n",
    "<img src='./images/real_nn.png'>"
   ]
  },
  {
   "cell_type": "markdown",
   "metadata": {},
   "source": [
    "## Библиотека numpy - NUMerical PYthon"
   ]
  },
  {
   "cell_type": "code",
   "execution_count": null,
   "metadata": {
    "collapsed": true
   },
   "outputs": [],
   "source": [
    "%matplotlib inline\n",
    "import numpy as np\n",
    "import os"
   ]
  },
  {
   "cell_type": "code",
   "execution_count": null,
   "metadata": {
    "collapsed": true
   },
   "outputs": [],
   "source": [
    "a = [1,2,3,4]\n",
    "b = [10, 20, 30, 40]"
   ]
  },
  {
   "cell_type": "code",
   "execution_count": null,
   "metadata": {},
   "outputs": [],
   "source": [
    "a[0], b[0]"
   ]
  },
  {
   "cell_type": "code",
   "execution_count": null,
   "metadata": {},
   "outputs": [],
   "source": [
    "a * 2"
   ]
  },
  {
   "cell_type": "code",
   "execution_count": null,
   "metadata": {},
   "outputs": [],
   "source": [
    "# ожидаем ошибку, ведь операция умножения не определена для списков\n",
    "\n",
    "a * b"
   ]
  },
  {
   "cell_type": "code",
   "execution_count": null,
   "metadata": {},
   "outputs": [],
   "source": [
    "a_array = np.array(a)\n",
    "b_array = np.array(b)"
   ]
  },
  {
   "cell_type": "code",
   "execution_count": null,
   "metadata": {},
   "outputs": [],
   "source": [
    "a_array[0]"
   ]
  },
  {
   "cell_type": "code",
   "execution_count": null,
   "metadata": {},
   "outputs": [],
   "source": [
    "a_array * 2"
   ]
  },
  {
   "cell_type": "code",
   "execution_count": null,
   "metadata": {},
   "outputs": [],
   "source": [
    "a_array * b_array"
   ]
  },
  {
   "cell_type": "code",
   "execution_count": null,
   "metadata": {},
   "outputs": [],
   "source": [
    "a_array.dot(b_array)"
   ]
  },
  {
   "cell_type": "markdown",
   "metadata": {},
   "source": [
    "### Пример использования: матрица поворота"
   ]
  },
  {
   "cell_type": "markdown",
   "metadata": {},
   "source": [
    "В математике матрицы называют операторами, которыми можно подействовать на точку в многомерном пространстве: повернуть, растянуть, отразить. Главное свойство этих операторов заключается в том, что произведение матриц (операторов) будет являться композицией преобразований. "
   ]
  },
  {
   "cell_type": "code",
   "execution_count": null,
   "metadata": {
    "collapsed": true
   },
   "outputs": [],
   "source": [
    "import math\n",
    "import matplotlib.pyplot as plt"
   ]
  },
  {
   "cell_type": "code",
   "execution_count": null,
   "metadata": {},
   "outputs": [],
   "source": [
    "def rotate(point, angle):\n",
    "    rad = math.pi / 180 * angle\n",
    "\n",
    "    rot = [\n",
    "        [ math.cos(rad), math.sin(rad)],\n",
    "        [-math.sin(rad), math.cos(rad)]\n",
    "    ]\n",
    "    \n",
    "    rot = np.array(rot)\n",
    "    point = np.array(point)\n",
    "    \n",
    "    return point.dot(rot)"
   ]
  },
  {
   "cell_type": "code",
   "execution_count": null,
   "metadata": {},
   "outputs": [],
   "source": [
    "point = (2, 2)\n",
    "\n",
    "plt.xlim(-5, 5)\n",
    "plt.ylim(-5, 5)\n",
    "plt.hlines(0, -6, 6, linestyles='--')\n",
    "plt.vlines(0, -6, 6, linestyles='--')\n",
    "plt.plot([0, point[0]], [0, point[1]], color='red')"
   ]
  },
  {
   "cell_type": "code",
   "execution_count": null,
   "metadata": {},
   "outputs": [],
   "source": [
    "rotated_point = rotate(point, -180)\n",
    "\n",
    "plt.xlim(-5, 5)\n",
    "plt.ylim(-5, 5)\n",
    "plt.hlines(0, -6, 6, linestyles='--')\n",
    "plt.vlines(0, -6, 6, linestyles='--')\n",
    "plt.plot([0, rotated_point[0]], [0, rotated_point[1]], color='red')"
   ]
  },
  {
   "cell_type": "code",
   "execution_count": null,
   "metadata": {
    "collapsed": true
   },
   "outputs": [],
   "source": [
    "def rotate_twice(point, angle1, angle2):\n",
    "    rad1 = math.pi / 180 * angle1\n",
    "    rad2 = math.pi / 180 * angle2\n",
    "\n",
    "    rot_1 = [\n",
    "        [ math.cos(rad1), math.sin(rad1)],\n",
    "        [-math.sin(rad1), math.cos(rad1)]\n",
    "    ]\n",
    "\n",
    "    rot_2 = [\n",
    "        [ math.cos(rad2), math.sin(rad2)],\n",
    "        [-math.sin(rad2), math.cos(rad2)]\n",
    "    ]\n",
    "    \n",
    "    rot_1 = np.array(rot_1)\n",
    "    rot_2 = np.array(rot_2)\n",
    "    rot = rot_1.dot(rot_2)\n",
    "    \n",
    "    point = np.array(point)\n",
    "    \n",
    "    return point.dot(rot)"
   ]
  },
  {
   "cell_type": "code",
   "execution_count": null,
   "metadata": {},
   "outputs": [],
   "source": [
    "twice_rotated_point = rotate_twice(point, -40, -50)\n",
    "\n",
    "plt.xlim(-5, 5)\n",
    "plt.ylim(-5, 5)\n",
    "plt.hlines(0, -6, 6, linestyles='--')\n",
    "plt.vlines(0, -6, 6, linestyles='--')\n",
    "plt.plot([0, twice_rotated_point[0]], [0, twice_rotated_point[1]], color='red')"
   ]
  },
  {
   "cell_type": "markdown",
   "metadata": {},
   "source": [
    "А теперь приведем пример с растяжением и одновременным изменением перспективы: \"уроним\" изображение енота вперед"
   ]
  },
  {
   "cell_type": "code",
   "execution_count": null,
   "metadata": {},
   "outputs": [],
   "source": [
    "import cv2\n",
    "import PIL\n",
    "\n",
    "img = cv2.imread(os.path.join('images', 'raccoon.jpg'))\n",
    "\n",
    "rows,cols,ch = img.shape\n",
    "pts1 = np.float32([[0,0],[cols, 0],[0, rows],[cols, rows]])\n",
    "pts2 = np.float32([[100,200],[cols - 100, 200],[0, rows],[cols, rows]])\n",
    "M = cv2.getPerspectiveTransform(pts1,pts2)\n",
    "dst = cv2.warpPerspective(img,M,(cols,rows))\n",
    "\n",
    "PIL.Image.fromarray(dst)"
   ]
  },
  {
   "cell_type": "markdown",
   "metadata": {},
   "source": [
    "## Фреймворк (библиотека) PyTorch"
   ]
  },
  {
   "cell_type": "code",
   "execution_count": null,
   "metadata": {
    "collapsed": true
   },
   "outputs": [],
   "source": [
    "import torch"
   ]
  },
  {
   "cell_type": "code",
   "execution_count": null,
   "metadata": {
    "collapsed": true
   },
   "outputs": [],
   "source": [
    "a_tensor = torch.Tensor(a)\n",
    "b_tensor = torch.Tensor(b)"
   ]
  },
  {
   "cell_type": "code",
   "execution_count": null,
   "metadata": {},
   "outputs": [],
   "source": [
    "a_tensor * 2"
   ]
  },
  {
   "cell_type": "code",
   "execution_count": null,
   "metadata": {},
   "outputs": [],
   "source": [
    "a_tensor * b_tensor"
   ]
  },
  {
   "cell_type": "code",
   "execution_count": null,
   "metadata": {},
   "outputs": [],
   "source": [
    "a_tensor.dot(b_tensor)"
   ]
  },
  {
   "cell_type": "markdown",
   "metadata": {},
   "source": [
    "---\n",
    "\n",
    "## Поток тензоров\n",
    "\n",
    "Любую картинку можно представить в виде вектора.\n",
    "\n",
    "<img src='./images/image_to_vector.png' width='60%'>"
   ]
  },
  {
   "cell_type": "code",
   "execution_count": null,
   "metadata": {},
   "outputs": [],
   "source": [
    "input_tensor = torch.rand(1, 8 * 8 * 3)\n",
    "input_tensor.shape"
   ]
  },
  {
   "cell_type": "markdown",
   "metadata": {},
   "source": [
    "<font color='red'>! Важно запомнить </font>, что np.dot( ) отличается по своему поведению от torch.dot( ). В numpy функция dot принимает на вход как одномерные вектора, так и матрицы, в PyTorh же только одномерные вектора. Для того, чтобы перемножить матрицы в PyTorch, требуется использовать функцию mm( ) - сокращение от *matrix multiplication*."
   ]
  },
  {
   "cell_type": "code",
   "execution_count": null,
   "metadata": {},
   "outputs": [],
   "source": [
    "# задайте размеры матриц таким образом, чтобы на выходе у вас\n",
    "# был вектор длинной 32\n",
    "\n",
    "m1 = torch.rand(, )\n",
    "m2 = torch.rand(, )\n",
    "m3 = torch.rand(, )\n",
    "\n",
    "output_tensor = input_tensor.mm(m1).mm(m2).mm(m3)\n",
    "output_tensor.shape"
   ]
  },
  {
   "cell_type": "markdown",
   "metadata": {},
   "source": [
    "### torch.nn.Module"
   ]
  },
  {
   "cell_type": "code",
   "execution_count": null,
   "metadata": {},
   "outputs": [],
   "source": [
    "class MyModel(torch.nn.Module):\n",
    "    def __init__(self, input_shape):\n",
    "        super(MyModel, self).__init__()\n",
    "        \n",
    "        self.fc1 = torch.nn.Linear(input_shape, 64, bias=True)\n",
    "        self.fc2 = torch.nn.Linear(64, 32, bias=True)\n",
    "        self.fc3 = torch.nn.Linear(32, 32, bias=True)\n",
    "        \n",
    "    def forward(self, x):\n",
    "        x = self.fc1(x)\n",
    "        x = self.fc2(x)\n",
    "        x = self.fc3(x)\n",
    "        \n",
    "        return x"
   ]
  },
  {
   "cell_type": "code",
   "execution_count": null,
   "metadata": {},
   "outputs": [],
   "source": [
    "model = MyModel(192)"
   ]
  },
  {
   "cell_type": "code",
   "execution_count": null,
   "metadata": {
    "collapsed": true
   },
   "outputs": [],
   "source": [
    "output = model(input_tensor)"
   ]
  },
  {
   "cell_type": "code",
   "execution_count": null,
   "metadata": {},
   "outputs": [],
   "source": [
    "output.shape"
   ]
  },
  {
   "cell_type": "markdown",
   "metadata": {},
   "source": [
    "### Пропускаем не одну картинку, а батч картинок через модель"
   ]
  },
  {
   "cell_type": "code",
   "execution_count": null,
   "metadata": {
    "collapsed": true
   },
   "outputs": [],
   "source": [
    "batch_size = 16\n",
    "\n",
    "batch_input = torch.rand((batch_size, 192))"
   ]
  },
  {
   "cell_type": "code",
   "execution_count": null,
   "metadata": {
    "collapsed": true
   },
   "outputs": [],
   "source": [
    "output = model(batch_input)"
   ]
  },
  {
   "cell_type": "code",
   "execution_count": null,
   "metadata": {},
   "outputs": [],
   "source": [
    "output.shape"
   ]
  },
  {
   "cell_type": "markdown",
   "metadata": {},
   "source": [
    "### Используем cuda для ускорения потока тензоров"
   ]
  },
  {
   "cell_type": "code",
   "execution_count": null,
   "metadata": {},
   "outputs": [],
   "source": [
    "device = 'cuda' if torch.cuda.is_available() else 'cpu'\n",
    "device"
   ]
  },
  {
   "cell_type": "code",
   "execution_count": null,
   "metadata": {},
   "outputs": [],
   "source": [
    "model = model.to(device)\n",
    "batch_input = batch_input.to(device)\n",
    "\n",
    "output = model(batch_input)\n",
    "\n",
    "# если использование gpu возможно, то output.get_device() вернет индекс видеокарты (начиная с нуля)\n",
    "# иначе, вернет -1 или выбросит ошибку\n",
    "\n",
    "output.shape, output.get_device()"
   ]
  }
 ],
 "metadata": {
  "kernelspec": {
   "display_name": "Python 3",
   "language": "python",
   "name": "python3"
  },
  "language_info": {
   "codemirror_mode": {
    "name": "ipython",
    "version": 3
   },
   "file_extension": ".py",
   "mimetype": "text/x-python",
   "name": "python",
   "nbconvert_exporter": "python",
   "pygments_lexer": "ipython3",
   "version": "3.6.9"
  },
  "latex_envs": {
   "LaTeX_envs_menu_present": true,
   "autocomplete": true,
   "bibliofile": "biblio.bib",
   "cite_by": "apalike",
   "current_citInitial": 1,
   "eqLabelWithNumbers": true,
   "eqNumInitial": 1,
   "hotkeys": {
    "equation": "Ctrl-E",
    "itemize": "Ctrl-I"
   },
   "labels_anchors": false,
   "latex_user_defs": false,
   "report_style_numbering": false,
   "user_envs_cfg": false
  }
 },
 "nbformat": 4,
 "nbformat_minor": 2
}
