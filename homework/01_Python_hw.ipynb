{
 "cells": [
  {
   "cell_type": "markdown",
   "metadata": {},
   "source": [
    "# Python - домашняя работа\n",
    "\n",
    "Чтобы выполнить домашнее задание, вам потребуется реализовать пять функций и проверить их с помощью предложенных тестов. Каждый пройденный тест вернет вам ключ, который следует внести в [форму ответов]() . Номер теста соответствует номеру задания. Так, например, если вы выполнили задание номер 3, реализовав функцию с именем `my_super_func`, тогда для проведения тестов надо вызвать третий тест, передав определенную вами функцию: `test3(my_super_func)`."
   ]
  },
  {
   "cell_type": "markdown",
   "metadata": {},
   "source": [
    "Импортируйте тесты, выполнив следующую ячейку (кликните на нее, затем нажмите shift + enter), после чего можно приступать к выполнению заданий."
   ]
  },
  {
   "cell_type": "code",
   "execution_count": null,
   "metadata": {},
   "outputs": [],
   "source": [
    "from tests.hw1 import test1, test2, test3, test4, test5"
   ]
  },
  {
   "cell_type": "markdown",
   "metadata": {},
   "source": [
    "### Задание № 1\n",
    "\n",
    "Реализуйте функцию, которая принимает два числа и возвращает их сумму"
   ]
  },
  {
   "cell_type": "code",
   "execution_count": null,
   "metadata": {},
   "outputs": [],
   "source": [
    "# ваш код здесь"
   ]
  },
  {
   "cell_type": "code",
   "execution_count": null,
   "metadata": {},
   "outputs": [],
   "source": [
    "test1(func_name)"
   ]
  },
  {
   "cell_type": "markdown",
   "metadata": {},
   "source": [
    "### Задание № 2\n",
    "\n",
    "Реализуйте функцию, которая принимает одно число и возвращает строку \"четное\", если переданное число является четным и строку \"нечетное\" в ином случае"
   ]
  },
  {
   "cell_type": "code",
   "execution_count": null,
   "metadata": {},
   "outputs": [],
   "source": [
    "# ваш код здесь"
   ]
  },
  {
   "cell_type": "code",
   "execution_count": null,
   "metadata": {},
   "outputs": [],
   "source": [
    "test2(func_name)"
   ]
  },
  {
   "cell_type": "markdown",
   "metadata": {},
   "source": [
    "### Задание № 3\n",
    "\n",
    "Реализуйте функцию, которая принимает на вход список и возвращает сумму его элементов"
   ]
  },
  {
   "cell_type": "code",
   "execution_count": null,
   "metadata": {},
   "outputs": [],
   "source": [
    "# ваш код здесь"
   ]
  },
  {
   "cell_type": "code",
   "execution_count": null,
   "metadata": {},
   "outputs": [],
   "source": [
    "test3(func_name)"
   ]
  },
  {
   "cell_type": "markdown",
   "metadata": {},
   "source": [
    "### Задание № 4\n",
    "\n",
    "Реализуйте функцию, которая принимает на вход список и все отрицательные значения в нем заменяет на нули, после чего возвращает результат"
   ]
  },
  {
   "cell_type": "code",
   "execution_count": null,
   "metadata": {},
   "outputs": [],
   "source": [
    "# ваш код здесь"
   ]
  },
  {
   "cell_type": "code",
   "execution_count": null,
   "metadata": {},
   "outputs": [],
   "source": [
    "test4(func_name)"
   ]
  },
  {
   "cell_type": "markdown",
   "metadata": {},
   "source": [
    "### Задание № 5\n",
    "\n",
    "Реализуйте функцию, которая принимает на вход два списка одинаковой длинны (`a` и `b`) и число (`limit`). Функция должна вычислить сумму попарных произведений элементов списков и вернуть `True`, если сумма не превышает параметр `limit`, иначе вывести `False`. **Параметр** `limit` **должен иметь значение по-умолчанию равное 100**.\n",
    "\n",
    "Пример использованивая функции:\n",
    "```python\n",
    "my_great_func([1, 2, 3], [-1, 0, 2], offset=10)\n",
    "```\n",
    "В примере выше сумма попарных произведений равна: `(1 * -1) + (2 * 0) + (3 * 2) = 5`. Таким образом, результат функции будет равен `True`\n",
    "\n",
    "Если были переданы списки разной длинны, то функция должна вернуть строку \"некорректный ввод\":\n",
    "```python\n",
    "result = my_great_func([5, 0, 2], [1, 1])\n",
    "print(result)\n",
    "некорректный ввод\n",
    "```\n"
   ]
  },
  {
   "cell_type": "code",
   "execution_count": null,
   "metadata": {},
   "outputs": [],
   "source": [
    "# ваш код здесь"
   ]
  },
  {
   "cell_type": "code",
   "execution_count": null,
   "metadata": {},
   "outputs": [],
   "source": [
    "test5(func_name)"
   ]
  }
 ],
 "metadata": {
  "kernelspec": {
   "display_name": "Python 3",
   "language": "python",
   "name": "python3"
  },
  "language_info": {
   "codemirror_mode": {
    "name": "ipython",
    "version": 3
   },
   "file_extension": ".py",
   "mimetype": "text/x-python",
   "name": "python",
   "nbconvert_exporter": "python",
   "pygments_lexer": "ipython3",
   "version": "3.7.4"
  },
  "latex_envs": {
   "LaTeX_envs_menu_present": true,
   "autoclose": false,
   "autocomplete": true,
   "bibliofile": "biblio.bib",
   "cite_by": "apalike",
   "current_citInitial": 1,
   "eqLabelWithNumbers": true,
   "eqNumInitial": 1,
   "hotkeys": {
    "equation": "Ctrl-E",
    "itemize": "Ctrl-I"
   },
   "labels_anchors": false,
   "latex_user_defs": false,
   "report_style_numbering": false,
   "user_envs_cfg": false
  }
 },
 "nbformat": 4,
 "nbformat_minor": 2
}
