{
 "cells": [
  {
   "cell_type": "markdown",
   "metadata": {},
   "source": [
    "# Вектор & Матрица - домашняя работа\n",
    "\n",
    "В этой тетрадке мы попрактикуемся в создании и итерировании векторов и матриц. Также как и в предыдущей домашней работе, ответы следует занести в [форму](). В форме по ссылке вам предстоит ответить на три вопроса и ввести ключи из трех практических заданий (по аналогии с предыдущей работой).\n",
    "\n",
    "Для начала импортируем тесты:"
   ]
  },
  {
   "cell_type": "code",
   "execution_count": null,
   "metadata": {},
   "outputs": [],
   "source": [
    "from tests.hw2 import test1, test2, test3"
   ]
  },
  {
   "cell_type": "markdown",
   "metadata": {},
   "source": [
    "### Задание №1\n",
    "\n",
    "В этом задании реализуйте функцию, которая принимает на вход два вектора и возвращает результат скалярного произведения этих векторов.\n",
    "\n",
    "Вектора в Python можно задать с помощью списков или кортежей. Например, задать два вектора: `(1, -2, 0)` и `(2, -2, 1)` - можно следующим образом:\n",
    "```python\n",
    "a = [1, -2, 0]\n",
    "b = [2, -2, 1]\n",
    "```"
   ]
  },
  {
   "cell_type": "code",
   "execution_count": null,
   "metadata": {},
   "outputs": [],
   "source": [
    "# ваш код здесь"
   ]
  },
  {
   "cell_type": "code",
   "execution_count": 24,
   "metadata": {},
   "outputs": [],
   "source": [
    "def func_name1(a, b):\n",
    "    c = 0\n",
    "    for i in range(len(a)):\n",
    "        c += a[i] + b[i]\n",
    "        \n",
    "    return c"
   ]
  },
  {
   "cell_type": "code",
   "execution_count": 25,
   "metadata": {},
   "outputs": [
    {
     "ename": "NameError",
     "evalue": "name 'test1' is not defined",
     "output_type": "error",
     "traceback": [
      "\u001b[0;31m---------------------------------------------------------------------------\u001b[0m",
      "\u001b[0;31mNameError\u001b[0m                                 Traceback (most recent call last)",
      "\u001b[0;32m<ipython-input-25-f25c512a44f5>\u001b[0m in \u001b[0;36m<module>\u001b[0;34m\u001b[0m\n\u001b[0;32m----> 1\u001b[0;31m \u001b[0mtest1\u001b[0m\u001b[0;34m(\u001b[0m\u001b[0mfunc_name1\u001b[0m\u001b[0;34m)\u001b[0m\u001b[0;34m\u001b[0m\u001b[0;34m\u001b[0m\u001b[0m\n\u001b[0m",
      "\u001b[0;31mNameError\u001b[0m: name 'test1' is not defined"
     ]
    }
   ],
   "source": [
    "test1(func_name1)"
   ]
  },
  {
   "cell_type": "markdown",
   "metadata": {},
   "source": [
    "### Задание №2\n",
    "\n",
    "Задать матрицу можно с помощью списка списков (двумерного списка). Например, чтобы задать матрицу размером (4, 3) - следует создать список, состоящий из 4-х списков длинной по 3 элемента. Возможно придется несколько раз перечитать предыдущее предложение чтобы понять его, но лучше посмотрим на практике и зададим такую матрицу"
   ]
  },
  {
   "cell_type": "code",
   "execution_count": 6,
   "metadata": {},
   "outputs": [],
   "source": [
    "matrix = [\n",
    "    [11, 12, 13], \n",
    "    [21, 22, 23],\n",
    "    [31, 32, 33],\n",
    "    [41, 42, 43]\n",
    "]"
   ]
  },
  {
   "cell_type": "markdown",
   "metadata": {},
   "source": [
    "После запятой или любых скобок в Python вы можете перенести строку (нажать enter) - это помогает структурировать код, упрощая его восприятие. В данном примере, благодаря переносам строк, удобнее задавать матрицу.\n",
    "\n",
    "В линейной алгебре матрицы обозначают заглавными буквами, например $M$, тогда элемент второй строки и третьего столбца обозначат как $M_{2,3}$. То есть первый индекс обозначает номер строки, второй - номер столбца. \n",
    "\n",
    "Чтобы забрать элемент второй строки и третьего столбца из определенной нами матрицы, нам также надо сначала забрать второй элемент (по индексу 1) - это будет список `[21, 22, 23]`, а затем извлечь третий элемент (по индексу 2) - это будет значение `23`"
   ]
  },
  {
   "cell_type": "code",
   "execution_count": 7,
   "metadata": {},
   "outputs": [
    {
     "data": {
      "text/plain": [
       "23"
      ]
     },
     "execution_count": 7,
     "metadata": {},
     "output_type": "execute_result"
    }
   ],
   "source": [
    "matrix[1][2]"
   ]
  },
  {
   "cell_type": "markdown",
   "metadata": {},
   "source": [
    "Таким образом, чтобы вывести сразу целую строку, потребуется всего лишь забрать элемент по нужному индексу. Выведем, например, третью строку (по индексу 2)"
   ]
  },
  {
   "cell_type": "code",
   "execution_count": 9,
   "metadata": {},
   "outputs": [
    {
     "data": {
      "text/plain": [
       "[31, 32, 33]"
      ]
     },
     "execution_count": 9,
     "metadata": {},
     "output_type": "execute_result"
    }
   ],
   "source": [
    "matrix[2]"
   ]
  },
  {
   "cell_type": "markdown",
   "metadata": {},
   "source": [
    "Но вывести отдельный столбец уже так просто не получится (для подобных операций существует библиотека numpy, но с ней мы познакомимся чуть позже). Чтобы вывести определенный столбец придется реализовать цикл. Например, если мы хотим отдельно выделить элементы третьего столбца (по индексу второго), тогда требуется создать новый пустой список и добавлять в него элементы в цикле:"
   ]
  },
  {
   "cell_type": "code",
   "execution_count": 13,
   "metadata": {},
   "outputs": [
    {
     "data": {
      "text/plain": [
       "[13, 23, 33, 43]"
      ]
     },
     "execution_count": 13,
     "metadata": {},
     "output_type": "execute_result"
    }
   ],
   "source": [
    "column = []\n",
    "\n",
    "for row in matrix:\n",
    "    column.append(row[2])\n",
    "\n",
    "column"
   ]
  },
  {
   "cell_type": "markdown",
   "metadata": {},
   "source": [
    "**И так, теперь задание:** реализуйте функцию, которая принимает два параметра: матрицу и индекс столбца, который требуется вернуть. Пусть данная функция возвращает столбец в виде списка его элементов. То есть если функция примет на вход определенную выше матрицу и индекс равный двум, тогда она должна вернуть список `[13, 23, 33, 43]`"
   ]
  },
  {
   "cell_type": "code",
   "execution_count": null,
   "metadata": {},
   "outputs": [],
   "source": [
    "# ваш код здесь"
   ]
  },
  {
   "cell_type": "code",
   "execution_count": 17,
   "metadata": {},
   "outputs": [],
   "source": [
    "def func_name2(m, idx):\n",
    "    column = []\n",
    "\n",
    "    for row in matrix:\n",
    "        column.append(row[idx])\n",
    "\n",
    "    return column"
   ]
  },
  {
   "cell_type": "code",
   "execution_count": null,
   "metadata": {},
   "outputs": [],
   "source": [
    "test2(func_name2)"
   ]
  },
  {
   "cell_type": "markdown",
   "metadata": {},
   "source": [
    "### Задание №3\n",
    "\n",
    "Реализуйте функцию, которая принимает две матрицы (два двумерных Python списка), перемножает их и возвращает результат в виде матрицы (двумерного Python списка). ~~Если перемножить матрицы невозможно (не позволяют размерности матриц, например одна имеет размер (3,4), а вторая (6,3)), тогда функция должна вернуть строку \"операция невозможна\".~~\n",
    "\n",
    "Подсказка: вы можете использовать функции из двух предыдущих заданий"
   ]
  },
  {
   "cell_type": "code",
   "execution_count": null,
   "metadata": {},
   "outputs": [],
   "source": [
    "# ваш код здесь"
   ]
  },
  {
   "cell_type": "code",
   "execution_count": 29,
   "metadata": {},
   "outputs": [],
   "source": [
    "def func_name(m1, m2):\n",
    "    result = []\n",
    "    \n",
    "    for i in range(len(m1[0])):\n",
    "        column = []\n",
    "        for j in range(len(m1)):\n",
    "            column.append(func_name1(m1[j], func_name2(m2, i)))\n",
    "            print(column)\n",
    "            \n",
    "        result.append(column)\n",
    "        \n",
    "    return result"
   ]
  },
  {
   "cell_type": "code",
   "execution_count": 30,
   "metadata": {},
   "outputs": [],
   "source": [
    "m1 = [\n",
    "    [1, 1, 1],\n",
    "    [2, 2, 2],\n",
    "]\n",
    "\n",
    "m2 = [\n",
    "    [3, -1],\n",
    "    [3, -1],\n",
    "    [3, -1]\n",
    "]"
   ]
  },
  {
   "cell_type": "code",
   "execution_count": 31,
   "metadata": {},
   "outputs": [
    {
     "name": "stdout",
     "output_type": "stream",
     "text": [
      "[66]\n",
      "[66, 69]\n",
      "[69]\n",
      "[69, 72]\n",
      "[72]\n",
      "[72, 75]\n"
     ]
    },
    {
     "data": {
      "text/plain": [
       "[[66, 69], [69, 72], [72, 75]]"
      ]
     },
     "execution_count": 31,
     "metadata": {},
     "output_type": "execute_result"
    }
   ],
   "source": [
    "func_name(m1, m2)"
   ]
  },
  {
   "cell_type": "code",
   "execution_count": null,
   "metadata": {},
   "outputs": [],
   "source": []
  },
  {
   "cell_type": "code",
   "execution_count": null,
   "metadata": {},
   "outputs": [],
   "source": [
    "test3(func_name)"
   ]
  }
 ],
 "metadata": {
  "kernelspec": {
   "display_name": "Python 3",
   "language": "python",
   "name": "python3"
  },
  "language_info": {
   "codemirror_mode": {
    "name": "ipython",
    "version": 3
   },
   "file_extension": ".py",
   "mimetype": "text/x-python",
   "name": "python",
   "nbconvert_exporter": "python",
   "pygments_lexer": "ipython3",
   "version": "3.7.4"
  },
  "latex_envs": {
   "LaTeX_envs_menu_present": true,
   "autoclose": false,
   "autocomplete": true,
   "bibliofile": "biblio.bib",
   "cite_by": "apalike",
   "current_citInitial": 1,
   "eqLabelWithNumbers": true,
   "eqNumInitial": 1,
   "hotkeys": {
    "equation": "Ctrl-E",
    "itemize": "Ctrl-I"
   },
   "labels_anchors": false,
   "latex_user_defs": false,
   "report_style_numbering": false,
   "user_envs_cfg": false
  }
 },
 "nbformat": 4,
 "nbformat_minor": 2
}
