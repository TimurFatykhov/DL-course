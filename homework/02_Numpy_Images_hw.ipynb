{
 "cells": [
  {
   "cell_type": "markdown",
   "metadata": {},
   "source": [
    "# 🤓 Numpy & Изображения 🖼  - домашняя работа"
   ]
  },
  {
   "cell_type": "markdown",
   "metadata": {},
   "source": [
    "### Задание №1\n",
    "\n",
    "Создайте отдельный батч картинок с кошками из папки *cat_vs_dogs* и отдельный батч картинок с собаками. Название файлов содержит в себе информацию о том, кто представлен на картинке. Пусть размер картинки в каждой батче будет равен 128x128. При этом сделайте это так, чтобы изображения не были искажены по вертикали или горизонтали (нельзя взять картинку размером 250x200 и сжать ее до 128x128 с помощью `cv2.resize()`, ведь тогда картинка вытянется по вертикали, сначала надо добавить паддинг).\n",
    "\n",
    "Для выполнения задания вам потребуется использовать:\n",
    "\n",
    "- glob\n",
    "- numpy.pad\n",
    "- numpy.stack\n",
    "- cv2.resize\n",
    "- cv2.imread\n",
    "- cv2.cvtColor"
   ]
  },
  {
   "cell_type": "code",
   "execution_count": null,
   "metadata": {},
   "outputs": [],
   "source": []
  }
 ],
 "metadata": {
  "kernelspec": {
   "display_name": "Python 3",
   "language": "python",
   "name": "python3"
  },
  "language_info": {
   "codemirror_mode": {
    "name": "ipython",
    "version": 3
   },
   "file_extension": ".py",
   "mimetype": "text/x-python",
   "name": "python",
   "nbconvert_exporter": "python",
   "pygments_lexer": "ipython3",
   "version": "3.7.4"
  },
  "latex_envs": {
   "LaTeX_envs_menu_present": true,
   "autoclose": false,
   "autocomplete": true,
   "bibliofile": "biblio.bib",
   "cite_by": "apalike",
   "current_citInitial": 1,
   "eqLabelWithNumbers": true,
   "eqNumInitial": 1,
   "hotkeys": {
    "equation": "Ctrl-E",
    "itemize": "Ctrl-I"
   },
   "labels_anchors": false,
   "latex_user_defs": false,
   "report_style_numbering": false,
   "user_envs_cfg": false
  }
 },
 "nbformat": 4,
 "nbformat_minor": 2
}
