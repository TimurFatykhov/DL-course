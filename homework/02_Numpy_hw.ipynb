{
 "cells": [
  {
   "cell_type": "markdown",
   "metadata": {},
   "source": [
    "# Numpy - домашняя работа\n",
    "\n",
    "В этом домашнем задании вам потребуется ответить на 4 вопроса и выполнить три задания, после чего внести ответы в [форму](https://forms.gle/MF1PWEFcS1CAmsVK9). Задания `0.1` и `0.2` - не оцениваются. "
   ]
  },
  {
   "cell_type": "markdown",
   "metadata": {},
   "source": [
    "### Задание №0.1:\n",
    "\n",
    "Импортируйте библиотеки ```numpy``` и ```matplotlib.pyplot```"
   ]
  },
  {
   "cell_type": "code",
   "execution_count": null,
   "metadata": {},
   "outputs": [],
   "source": [
    "# ваш код здесь"
   ]
  },
  {
   "cell_type": "markdown",
   "metadata": {},
   "source": [
    "### Задание №0.2:\n",
    "\n",
    "Создайте матрицу размером ```(5,5)``` и заполните ее пятерками. Подумайте над тем как сделать эту операцию максимально быстро (можно уложиться в 16 символов)"
   ]
  },
  {
   "cell_type": "code",
   "execution_count": null,
   "metadata": {},
   "outputs": [],
   "source": [
    "# ваш код здесь"
   ]
  },
  {
   "cell_type": "markdown",
   "metadata": {},
   "source": [
    "Теперь умножьте все значения на 2 (не больше 2 символов кода без учета названия переменных)"
   ]
  },
  {
   "cell_type": "code",
   "execution_count": null,
   "metadata": {},
   "outputs": [],
   "source": [
    "# ваш код здесь"
   ]
  },
  {
   "cell_type": "markdown",
   "metadata": {},
   "source": [
    "### Задание №1:\n",
    "\n",
    "Установите семя случайного генератора равному 77 (чтобы у всех генерировалась одинаковая матрица и помните, что семя надо устанавливать заново перед каждым вызовом функций, которые генерируют случайные последовательности). Создайте матрицу размером 25x25, заполненную случайными числами из нормального распределения `N(0, 3)` и посчитайте ее среднее значение (используйте встроенную в numpy функцию). Должно получиться около нуля, ведь мы задали центр равный нулю (а среднекв. отклонение должно быть около 3)."
   ]
  },
  {
   "cell_type": "code",
   "execution_count": null,
   "metadata": {},
   "outputs": [],
   "source": [
    "np.random.seed(77)\n",
    "# ваш код здесь"
   ]
  },
  {
   "cell_type": "markdown",
   "metadata": {},
   "source": [
    "А теперь посчитайте среднеквадритечское отклонение элементов матрицы. Формула для вычисления очень проста: ```sqrt(M((M(x) - x)^2))```, где М - это функция, вычисляющая среднее значение вектора, ```^2``` означает возвести во вторую степень, а `sqrt` - вычислить корень. Результат должен получится такой же, как если бы вы вызвали функцию ```np.std( )```, передав свою матрицу как аргумент функции. Поэтому можете самостоятельно проверить правильность своих вычислений. Попробуйте реализовать функцию вычисления отклонения самостоятельно - это хорошая практика!"
   ]
  },
  {
   "cell_type": "code",
   "execution_count": null,
   "metadata": {},
   "outputs": [],
   "source": [
    "# ваш код здесь"
   ]
  },
  {
   "cell_type": "markdown",
   "metadata": {},
   "source": [
    "Воспользуйтесь функцией `np.std()`, чтобы проверить правильность своих вычислений, должно получиться то же самое. Полученные значения введите в форме для ответов."
   ]
  },
  {
   "cell_type": "markdown",
   "metadata": {},
   "source": [
    "### Задание №2:\n",
    "\n",
    "Теперь сконвертируйте следующий python-список в numpy-вектор, а после переформируйте его в матрицу размером 4х4. На диагонали у вас должны появиться единицы. Теперь с помощью индексирования задайте элементам на [главной диагонали](https://ru.wikipedia.org/wiki/Главная_диагональ) значение 7. Затем четные столбцы в четных (по индексу) строках равными 5 и вычислите произведение элементов каждой строки (вам поможет `np.prod` с правильно указанным параметром `axis`), а затем сумму этих произведений, получившееся значение введите в форму."
   ]
  },
  {
   "cell_type": "code",
   "execution_count": null,
   "metadata": {},
   "outputs": [],
   "source": [
    "task_3 = [1, -2, 3, -3, -2, 1, 1, -1, 2, -2, 1, 3, 1, 3, 3, 1]"
   ]
  },
  {
   "cell_type": "code",
   "execution_count": null,
   "metadata": {},
   "outputs": [],
   "source": [
    "# ваш код здесь"
   ]
  },
  {
   "cell_type": "markdown",
   "metadata": {},
   "source": [
    "### Задание №3:\n",
    "\n",
    "Осуществите перемножение трех следующих матриц установив их в таком порядке, чтобы не произошло ошибки"
   ]
  },
  {
   "cell_type": "code",
   "execution_count": null,
   "metadata": {},
   "outputs": [],
   "source": [
    "task_41 = [[8,7,-2],[0,-3,6],[-5,3,1],[6,-7,4]] # подсказка: эта матрица должна идти первой\n",
    "\n",
    "task_42 = [[5,6,-2], [8,3,-1], [-5,0,-1], [1,4,1], [0,5,0]]\n",
    "task_43 = [[0,6], [1,-8], [5,3]]\n",
    "task_44 = [[2,-6,4,2,7], [8,5,-1,7,1]]"
   ]
  },
  {
   "cell_type": "markdown",
   "metadata": {},
   "source": [
    "Теперь вычислите сумму четырех угловых правых нижних элементов"
   ]
  },
  {
   "cell_type": "code",
   "execution_count": null,
   "metadata": {},
   "outputs": [],
   "source": [
    "# ваш код здесь"
   ]
  },
  {
   "cell_type": "markdown",
   "metadata": {},
   "source": [
    "Получившееся значение введите в форму для ответов"
   ]
  }
 ],
 "metadata": {
  "kernelspec": {
   "display_name": "Python 3",
   "language": "python",
   "name": "python3"
  },
  "language_info": {
   "codemirror_mode": {
    "name": "ipython",
    "version": 3
   },
   "file_extension": ".py",
   "mimetype": "text/x-python",
   "name": "python",
   "nbconvert_exporter": "python",
   "pygments_lexer": "ipython3",
   "version": "3.7.4"
  },
  "latex_envs": {
   "LaTeX_envs_menu_present": true,
   "autoclose": false,
   "autocomplete": true,
   "bibliofile": "biblio.bib",
   "cite_by": "apalike",
   "current_citInitial": 1,
   "eqLabelWithNumbers": true,
   "eqNumInitial": 1,
   "hotkeys": {
    "equation": "Ctrl-E",
    "itemize": "Ctrl-I"
   },
   "labels_anchors": false,
   "latex_user_defs": false,
   "report_style_numbering": false,
   "user_envs_cfg": false
  }
 },
 "nbformat": 4,
 "nbformat_minor": 2
}
