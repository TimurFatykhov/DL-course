{
 "cells": [
  {
   "cell_type": "markdown",
   "metadata": {},
   "source": [
    "# Производная  - домашняя работа"
   ]
  },
  {
   "cell_type": "markdown",
   "metadata": {},
   "source": [
    "В этой домашней работе продолжим развивать свои навыки в математических исчислениях и вычислим несколько производных."
   ]
  },
  {
   "cell_type": "markdown",
   "metadata": {},
   "source": [
    "### Задание №1"
   ]
  },
  {
   "cell_type": "markdown",
   "metadata": {},
   "source": [
    "Пусть:\n",
    "\n",
    "<font size=4>\n",
    "    \n",
    "> $f(y) = y^2$<br>\n",
    "<br>\n",
    "> $g(k) = 3k - 9$<br>\n",
    "<br>\n",
    "> $h(t) = t + 1$\n",
    "    \n",
    "</font>\n",
    "\n",
    "Вычислите производные следующих функций по переменной x:\n",
    "\n",
    "<font size=3>\n",
    "\n",
    ">1. $4x$\n",
    "<br>\n",
    "<br>\n",
    ">2. $x^5$\n",
    "<br>\n",
    "<br>\n",
    ">3. $3x^3$\n",
    "<br>\n",
    "<br>\n",
    ">3. $\\frac{f(x)}{2}$\n",
    "<br>\n",
    "<br>\n",
    ">3. $f(x) + g(x)$\n",
    "<br>\n",
    "<br>\n",
    ">3. $f(x) * g(x)$\n",
    "<br>\n",
    "<br>\n",
    ">3. $f(h(x)) + g(x)$\n",
    "<br>\n",
    "<br>\n",
    ">3. $h(g(f(x)))$\n",
    "    \n",
    "</font>\n"
   ]
  },
  {
   "cell_type": "markdown",
   "metadata": {},
   "source": [
    "### Задание №2"
   ]
  },
  {
   "cell_type": "markdown",
   "metadata": {},
   "source": [
    "Пусть:\n",
    "\n",
    "<font size=4>\n",
    "    \n",
    "> $f(y) = y^2$<br>\n",
    "<br>\n",
    "> $g(k) = 3k - 9$<br>\n",
    "<br>\n",
    "> $h(t) = t + 1$\n",
    "    \n",
    "</font>\n",
    "\n",
    "Вычислите значения значения производных в точке x=a:\n",
    "\n",
    "<font size=4>\n",
    "\n",
    ">1. $f(x) + g(x)$, при a=-2\n",
    "<br>\n",
    "<br>\n",
    ">1. $h(g(f(x)))$, при a=3\n",
    "<br>\n",
    "<br>\n",
    ">1. $\\sqrt{x}$, при a=1\n",
    "<br>\n",
    "<br>\n",
    ">1. $\\sqrt{f(x)}$, при a=2\n",
    "<br>\n",
    "<br>\n",
    "    \n",
    "</font>\n"
   ]
  }
 ],
 "metadata": {
  "kernelspec": {
   "display_name": "Python 3",
   "language": "python",
   "name": "python3"
  },
  "language_info": {
   "codemirror_mode": {
    "name": "ipython",
    "version": 3
   },
   "file_extension": ".py",
   "mimetype": "text/x-python",
   "name": "python",
   "nbconvert_exporter": "python",
   "pygments_lexer": "ipython3",
   "version": "3.7.4"
  },
  "latex_envs": {
   "LaTeX_envs_menu_present": true,
   "autoclose": false,
   "autocomplete": true,
   "bibliofile": "biblio.bib",
   "cite_by": "apalike",
   "current_citInitial": 1,
   "eqLabelWithNumbers": true,
   "eqNumInitial": 1,
   "hotkeys": {
    "equation": "Ctrl-E",
    "itemize": "Ctrl-I"
   },
   "labels_anchors": false,
   "latex_user_defs": false,
   "report_style_numbering": false,
   "user_envs_cfg": false
  }
 },
 "nbformat": 4,
 "nbformat_minor": 2
}
