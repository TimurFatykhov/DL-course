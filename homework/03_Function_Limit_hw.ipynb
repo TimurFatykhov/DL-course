{
 "cells": [
  {
   "cell_type": "markdown",
   "metadata": {},
   "source": [
    "# Функция и предел  - домашняя работа"
   ]
  },
  {
   "cell_type": "markdown",
   "metadata": {},
   "source": [
    "В этой домашней работе вам предстоит вычислить значения функций и значения некоторых пределов."
   ]
  },
  {
   "cell_type": "markdown",
   "metadata": {},
   "source": [
    "### Задание №1"
   ]
  },
  {
   "cell_type": "markdown",
   "metadata": {},
   "source": [
    "Пусть:\n",
    "\n",
    "<font size=4>\n",
    "    \n",
    "> $f(y) = \\frac{y^2}{2}$<br>\n",
    "<br>\n",
    "> $g(k) = 3k - 9$<br>\n",
    "<br>\n",
    "> $h(t) = t + 1$\n",
    "    \n",
    "</font>\n",
    "\n",
    "Вычислите значения функций:\n",
    "\n",
    "<font size=3>\n",
    "\n",
    ">1. $h(10) + g(4)$\n",
    "<br>\n",
    "<br>\n",
    ">2. $f(3)  - g(-5)$\n",
    "<br>\n",
    "<br>\n",
    ">3. $f(g(-4))  * h(g(4))$\n",
    "<br>\n",
    "<br>\n",
    ">3. $g(x + \\Delta{x})$\n",
    "<br>\n",
    "<br>\n",
    ">3. $f(x + \\Delta{x}) - f(x)$\n",
    "    \n",
    "</font>\n"
   ]
  },
  {
   "cell_type": "markdown",
   "metadata": {},
   "source": [
    "### Задание №2"
   ]
  },
  {
   "cell_type": "markdown",
   "metadata": {},
   "source": [
    "Пусть:\n",
    "\n",
    "<font size=4>\n",
    "    \n",
    "> $f(z) = {z^2}$<br>\n",
    "<br>\n",
    "> $h(q) = \\frac{5}{q - 10}$<br>\n",
    "<br>\n",
    "> $c(b) = b(3b+6)$<br>\n",
    "<br>\n",
    "> $u(v) = 3v$<br>\n",
    "    \n",
    "</font>\n",
    "\n",
    "Вычислите значения пределов (не во всех ответах будет только число):\n",
    "\n",
    "<font size=5>\n",
    "\n",
    ">1. $lim_{\\alpha \\to 0}{5\\alpha + 5}$\n",
    "<br>\n",
    "<br>\n",
    ">1. $lim_{x \\to \\infty}{h(x)}$\n",
    "<br>\n",
    "<br>\n",
    ">1. $lim_{y \\to 0}{\\frac{c(y)}{u(y)}}$\n",
    "<br>\n",
    "<br>\n",
    ">1. $lim_{\\gamma \\to 2}{\\frac{2(\\gamma - 2)}{\\gamma^2 - 4}}$\n",
    "<br>\n",
    "<br>\n",
    ">1. $lim_{\\Delta{x} \\to 0}\\frac{{f(5 + \\Delta{x}) - f(5)}}{\\Delta{x}}$\n",
    "    \n",
    "</font>\n"
   ]
  }
 ],
 "metadata": {
  "kernelspec": {
   "display_name": "Python 3",
   "language": "python",
   "name": "python3"
  },
  "language_info": {
   "codemirror_mode": {
    "name": "ipython",
    "version": 3
   },
   "file_extension": ".py",
   "mimetype": "text/x-python",
   "name": "python",
   "nbconvert_exporter": "python",
   "pygments_lexer": "ipython3",
   "version": "3.7.4"
  },
  "latex_envs": {
   "LaTeX_envs_menu_present": true,
   "autoclose": false,
   "autocomplete": true,
   "bibliofile": "biblio.bib",
   "cite_by": "apalike",
   "current_citInitial": 1,
   "eqLabelWithNumbers": true,
   "eqNumInitial": 1,
   "hotkeys": {
    "equation": "Ctrl-E",
    "itemize": "Ctrl-I"
   },
   "labels_anchors": false,
   "latex_user_defs": false,
   "report_style_numbering": false,
   "user_envs_cfg": false
  }
 },
 "nbformat": 4,
 "nbformat_minor": 2
}
